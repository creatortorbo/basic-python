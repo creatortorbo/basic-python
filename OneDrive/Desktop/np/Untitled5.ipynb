{
 "cells": [
  {
   "cell_type": "markdown",
   "id": "40da891a-b3e4-4be4-b0fa-1c7df9b6c924",
   "metadata": {},
   "source": [
    "# shape of numpy array (oder)"
   ]
  },
  {
   "cell_type": "code",
   "execution_count": 6,
   "id": "a23d01fe-f097-4c47-b659-96e0e5481366",
   "metadata": {},
   "outputs": [
    {
     "name": "stdout",
     "output_type": "stream",
     "text": [
      "[[1 2]\n",
      " [1 2]]\n",
      "\n",
      "(2, 2)\n"
     ]
    }
   ],
   "source": [
    "import numpy as np\n",
    "var = np.array([[1,2],[1,2]])\n",
    "\n",
    "print(var)\n",
    "print()\n",
    "print(var.shape )"
   ]
  },
  {
   "cell_type": "code",
   "execution_count": 7,
   "id": "fac698bd-c6b9-4e4e-997a-7d6059812ad7",
   "metadata": {},
   "outputs": [
    {
     "name": "stdout",
     "output_type": "stream",
     "text": [
      "[[ 1  2  3  4  5  6]\n",
      " [ 3  4  5 56  7  8]]\n",
      "\n",
      "(2, 6)\n"
     ]
    }
   ],
   "source": [
    "var = np.array([[1,2,3,4,5,6],[3,4,5,56,7,8]])\n",
    "print(var)\n",
    "print()\n",
    "print(var.shape)\n"
   ]
  },
  {
   "cell_type": "code",
   "execution_count": 9,
   "id": "c2bd09d1-2fbf-4766-8a61-61319bd52f61",
   "metadata": {},
   "outputs": [
    {
     "name": "stdout",
     "output_type": "stream",
     "text": [
      "[[[[1 2 3 4]]]]\n",
      "4\n",
      "\n",
      "(1, 1, 1, 4)\n"
     ]
    }
   ],
   "source": [
    "var1 = np.array([1,2,3,4],ndmin = 4)\n",
    "\n",
    "print(var1)\n",
    "print(var1.ndim)\n",
    "print()\n",
    "print(var1 .shape)\n"
   ]
  },
  {
   "cell_type": "markdown",
   "id": "a38cca48-3fdc-4276-8f77-eacdb2daca29",
   "metadata": {},
   "source": [
    "# Reshape(): it conver one dim to multidimation aray visevase"
   ]
  },
  {
   "cell_type": "code",
   "execution_count": null,
   "id": "b083b1b5-8969-4499-ae8e-50a3ced62140",
   "metadata": {},
   "outputs": [],
   "source": []
  },
  {
   "cell_type": "code",
   "execution_count": 16,
   "id": "8a61780a-af56-49c3-a8c5-16f3e5705c57",
   "metadata": {},
   "outputs": [
    {
     "name": "stdout",
     "output_type": "stream",
     "text": [
      "[1 2 3 4 6 7]\n",
      "1\n",
      "\n",
      "[[1 2]\n",
      " [3 4]\n",
      " [6 7]]\n",
      "\n",
      "2\n"
     ]
    }
   ],
   "source": [
    "var3 = np.array([1,2,3,4,6,7])\n",
    "print(var3)\n",
    "print(var3.ndim)\n",
    "\n",
    "print()\n",
    "\n",
    "x = var3.reshape (3,2)\n",
    "print(x)\n",
    "print()\n",
    "print(x.ndim)"
   ]
  },
  {
   "cell_type": "raw",
   "id": "5b5ed1de-9188-4612-89cd-d24d2214dc27",
   "metadata": {},
   "source": [
    "var4 = np.array([1,2,3,4,6,7])\n",
    "print(var4)\n",
    "print(var4.ndim)\n",
    "\n",
    "print()\n",
    "\n",
    "x = var4.reshape (3,2)\n",
    "print(x)\n",
    "print()\n",
    "print(x.ndim)"
   ]
  },
  {
   "cell_type": "markdown",
   "id": "8dfca6a9-1f05-44b3-97da-a3e682aae1d4",
   "metadata": {},
   "source": [
    " # Broadcasting in array"
   ]
  },
  {
   "cell_type": "code",
   "execution_count": 3,
   "id": "1854b45a-22df-4833-858e-7d2d86b27b2a",
   "metadata": {},
   "outputs": [
    {
     "name": "stdout",
     "output_type": "stream",
     "text": [
      "(4,)\n",
      "\n",
      "[ 5  7  9 11]\n"
     ]
    }
   ],
   "source": [
    "import numpy as np\n",
    "var1 = np.array([1,2,3,4])   \n",
    "print(var1.shape )\n",
    "print()\n",
    "\n",
    "var2 = np.array([4,5,6,7])\n",
    "\n",
    "print(var1 + var2)\n"
   ]
  },
  {
   "cell_type": "code",
   "execution_count": 7,
   "id": "265de03f-0d4d-4073-9ab7-38535690c3af",
   "metadata": {},
   "outputs": [
    {
     "ename": "AttributeError",
     "evalue": "'numpy.ndarray' object has no attribute 'ahape'",
     "output_type": "error",
     "traceback": [
      "\u001b[1;31m---------------------------------------------------------------------------\u001b[0m",
      "\u001b[1;31mAttributeError\u001b[0m                            Traceback (most recent call last)",
      "Cell \u001b[1;32mIn[7], line 3\u001b[0m\n\u001b[0;32m      1\u001b[0m \u001b[38;5;28;01mimport\u001b[39;00m \u001b[38;5;21;01mnumpy\u001b[39;00m \u001b[38;5;28;01mas\u001b[39;00m \u001b[38;5;21;01mnp\u001b[39;00m\n\u001b[0;32m      2\u001b[0m var2 \u001b[38;5;241m=\u001b[39m np\u001b[38;5;241m.\u001b[39marray([\u001b[38;5;241m1\u001b[39m,\u001b[38;5;241m2\u001b[39m,\u001b[38;5;241m3\u001b[39m])\n\u001b[1;32m----> 3\u001b[0m \u001b[38;5;28mprint\u001b[39m(\u001b[43mvar2\u001b[49m\u001b[38;5;241;43m.\u001b[39;49m\u001b[43mahape\u001b[49m)\n\u001b[0;32m      4\u001b[0m \u001b[38;5;28mprint\u001b[39m()\n\u001b[0;32m      5\u001b[0m \u001b[38;5;28mprint\u001b[39m(var2)\n",
      "\u001b[1;31mAttributeError\u001b[0m: 'numpy.ndarray' object has no attribute 'ahape'"
     ]
    }
   ],
   "source": [
    "import numpy as np\n",
    "var2 = np.array([1,2,3])\n",
    "print(var2.ahape)\n",
    "print()\n",
    "print(var2)\n",
    "print()\n",
    "\n",
    "\n",
    "\n",
    "var3 = np.array([[1],[3],[4]])\n",
    "print(var2.shape)\n",
    "print()\n",
    "print(var3)"
   ]
  },
  {
   "cell_type": "markdown",
   "id": "f359117d-d848-4e74-a1cc-a89653a87dd8",
   "metadata": {},
   "source": [
    "# Indexing and Slicing In NumPy Arrays "
   ]
  },
  {
   "cell_type": "markdown",
   "id": "7911ee01-0910-4696-8166-12d9c990a759",
   "metadata": {},
   "source": [
    "# indexing (postive)"
   ]
  },
  {
   "cell_type": "code",
   "execution_count": 13,
   "id": "4a254ef7-4533-4879-934c-6528b7f55523",
   "metadata": {},
   "outputs": [
    {
     "name": "stdout",
     "output_type": "stream",
     "text": [
      "\n",
      "indexing is : 2\n"
     ]
    }
   ],
   "source": [
    "import numpy as np\n",
    "var1= np.array([1,2,3,4,5])\n",
    "print()\n",
    "print(\"indexing is :\",var1[1])\n"
   ]
  },
  {
   "cell_type": "markdown",
   "id": "6478e9d5-e0f0-477a-b8e8-d3e3e18729b1",
   "metadata": {},
   "source": [
    "# negative indexing "
   ]
  },
  {
   "cell_type": "code",
   "execution_count": 16,
   "id": "1652a25e-3960-4e7d-bcd1-a16f65349754",
   "metadata": {},
   "outputs": [
    {
     "name": "stdout",
     "output_type": "stream",
     "text": [
      "\n",
      "indexing is : 7\n",
      "indexing is : 5\n"
     ]
    }
   ],
   "source": [
    "var2 = np.array([1,2,4,5,6,7,8])\n",
    "print()\n",
    "print(\"indexing is :\",var2[-2])\n",
    "print(\"indexing is :\",var2[-4])\n"
   ]
  },
  {
   "cell_type": "markdown",
   "id": "adde2038-68e9-404a-ae6f-f531fbb9cb60",
   "metadata": {},
   "source": [
    " # indexing in 2dim array "
   ]
  },
  {
   "cell_type": "code",
   "execution_count": 23,
   "id": "7834a5ac-dc94-4586-9f76-145e6ca56535",
   "metadata": {},
   "outputs": [
    {
     "name": "stdout",
     "output_type": "stream",
     "text": [
      "[[4 5 6]\n",
      " [6 7 8]]\n",
      "\n",
      "dim is : 2\n",
      "\n",
      "indixing is : 5\n",
      "indixing is : 6\n",
      "indixing is : 8\n"
     ]
    }
   ],
   "source": [
    "var3 = np.array([[4,5,6],[6,7,8]])\n",
    "print(var3)\n",
    "print()\n",
    "print(\"dim is :\",var3.ndim)\n",
    "print()\n",
    "print(\"indixing is :\",var3[0,1])\n",
    "print(\"indixing is :\",var3[1,0])\n",
    "print(\"indixing is :\",var3[1,2])\n"
   ]
  },
  {
   "cell_type": "markdown",
   "id": "7ad87f1c-6c01-4642-b8bd-d0a96b0d859e",
   "metadata": {},
   "source": [
    "# 3 dim array"
   ]
  },
  {
   "cell_type": "code",
   "execution_count": 28,
   "id": "28b73bcd-dfde-4421-ba9b-3c86d8726e09",
   "metadata": {},
   "outputs": [
    {
     "name": "stdout",
     "output_type": "stream",
     "text": [
      "[[[1 2]\n",
      "  [9 5]]]\n",
      "\n",
      "dim is :  3\n",
      "indixing is : 5\n"
     ]
    }
   ],
   "source": [
    "var4 = np.array([[[1,2],[9,5]]])\n",
    "print(var4)\n",
    "print()\n",
    "print(\"dim is : \",var4.ndim)\n",
    "print(\"indixing is :\",var4[0,1,1])\n",
    "\n"
   ]
  },
  {
   "cell_type": "code",
   "execution_count": 29,
   "id": "0a286127-165c-44bd-9290-bf0360cc1436",
   "metadata": {},
   "outputs": [
    {
     "name": "stdout",
     "output_type": "stream",
     "text": [
      "insixing is : 2\n"
     ]
    }
   ],
   "source": [
    "var5  = np.array([[[1,2],[4,5]]])\n",
    "print(\"insixing is :\",var5[0,0,1])"
   ]
  },
  {
   "cell_type": "markdown",
   "id": "cdf7b605-498b-4fb2-bd59-dbd6055df813",
   "metadata": {},
   "source": [
    "# slicing in array "
   ]
  },
  {
   "cell_type": "code",
   "execution_count": 33,
   "id": "94531432-c99f-4e61-b12b-3e0e3606af32",
   "metadata": {},
   "outputs": [
    {
     "name": "stdout",
     "output_type": "stream",
     "text": [
      "[1 2 3 4 5 6 7]\n",
      "\n",
      "slicing for 2 to 5 : [1 2 3 4 5]\n"
     ]
    }
   ],
   "source": [
    "var6 = np.array([1,2,3,4,5,6,7])\n",
    "print(var6)\n",
    "print()\n",
    "print(\"slicing for 1 to 5 :\",var6[0:5])"
   ]
  },
  {
   "cell_type": "code",
   "execution_count": 34,
   "id": "bedc4092-0b60-4edf-8259-7f266be7aa34",
   "metadata": {},
   "outputs": [
    {
     "name": "stdout",
     "output_type": "stream",
     "text": [
      "[1 2 3 4 5 6 7]\n",
      "\n",
      "slicing for 2 to 6 : [2 3 4 5 6]\n"
     ]
    }
   ],
   "source": [
    "var6 = np.array([1,2,3,4,5,6,7])\n",
    "print(var6)\n",
    "print()\n",
    "print(\"slicing for 2 to 6 :\",var6[1:6])"
   ]
  },
  {
   "cell_type": "code",
   "execution_count": 37,
   "id": "131bdb89-ae39-4688-b7de-3cf2970398be",
   "metadata": {},
   "outputs": [
    {
     "name": "stdout",
     "output_type": "stream",
     "text": [
      "\n",
      "slicing for 2 to 7 : []\n"
     ]
    }
   ],
   "source": [
    "var7 = np.array([1,2,3,4,5,6,7])\n",
    "# print(var6)\n",
    "print()\n",
    "print(\"slicing for 2 to 7 :\",var7[-1:-6:1])\n",
    "# program not working (error )"
   ]
  },
  {
   "cell_type": "code",
   "execution_count": 43,
   "id": "9890f371-b3e3-46c2-a2ca-c80baac305f1",
   "metadata": {},
   "outputs": [
    {
     "name": "stdout",
     "output_type": "stream",
     "text": [
      "\n",
      "slicing for 2 to End : [2 3 4 5 6 7]\n",
      "stop: [1 3 5 7]\n"
     ]
    }
   ],
   "source": [
    "var8 = np.array([1,2,3,4,5,6,7])\n",
    "# print(var8)\n",
    "print()\n",
    "print(\"slicing for 2 to End :\",var8[1:])\n",
    "print(\"stop:\",var8[::2])"
   ]
  },
  {
   "cell_type": "markdown",
   "id": "c51a637f-c99d-4b66-b565-658b75184a34",
   "metadata": {},
   "source": [
    "# slicing in 2dim array "
   ]
  },
  {
   "cell_type": "code",
   "execution_count": 46,
   "id": "0d89e7ee-c5a0-4395-bce5-077a1885c517",
   "metadata": {},
   "outputs": [
    {
     "name": "stdout",
     "output_type": "stream",
     "text": [
      "[[ 1  2  4  5  6]\n",
      " [ 7  8  9 10 11]\n",
      " [12 13 14 15 16]]\n",
      "8 to 5 : [ 7  8  9 10 11]\n"
     ]
    }
   ],
   "source": [
    "var9 = np.array([[1,2,4,5,6],[7,8,9,10,11],[12,13,14,15,16]])\n",
    "print(var9)\n",
    "print(\"8 to 5 :\",var9[1,0:])  # it print all the element in given array \n"
   ]
  },
  {
   "cell_type": "code",
   "execution_count": 47,
   "id": "ced76519-d2e7-4ffe-8248-d85f2dbd4c56",
   "metadata": {},
   "outputs": [
    {
     "name": "stdout",
     "output_type": "stream",
     "text": [
      "[[ 1  2  4  5  6]\n",
      " [ 7  8  9 10 11]\n",
      " [12 13 14 15 16]]\n",
      "8 to 5 : [12 13 14 15 16]\n"
     ]
    }
   ],
   "source": [
    "var9 = np.array([[1,2,4,5,6],[7,8,9,10,11],[12,13,14,15,16]])\n",
    "print(var9)\n",
    "print(\"8 to 5 :\",var9[2,0:])  # it print all the element in given array \n"
   ]
  },
  {
   "cell_type": "markdown",
   "id": "74c4f4cd-9b86-4ad4-b771-c054e59453a8",
   "metadata": {},
   "source": [
    "# Iterating in NumPy Arrays(loops)"
   ]
  },
  {
   "cell_type": "markdown",
   "id": "ec7c9eda-d9ca-4bfa-b4bd-be3399761377",
   "metadata": {},
   "source": [
    "# for one dim array "
   ]
  },
  {
   "cell_type": "code",
   "execution_count": 2,
   "id": "a235dbba-9663-4f0c-a993-e75541baea82",
   "metadata": {},
   "outputs": [
    {
     "name": "stdout",
     "output_type": "stream",
     "text": [
      "6\n",
      "7\n",
      "8\n",
      "9\n",
      "2\n",
      "4\n"
     ]
    }
   ],
   "source": [
    "import numpy as np\n",
    "var9 = np.array([6,7,8,9,2,4])\n",
    "\n",
    "for i in  var9:\n",
    "    print(i)"
   ]
  },
  {
   "cell_type": "code",
   "execution_count": 8,
   "id": "c7d47e7d-2f6c-4fe4-a61f-9d2f18be4429",
   "metadata": {},
   "outputs": [
    {
     "name": "stdout",
     "output_type": "stream",
     "text": [
      "4\n",
      "5\n",
      "6\n",
      "7\n",
      "11\n",
      "9\n"
     ]
    }
   ],
   "source": [
    "import numpy as np\n",
    "var10 = np.array([4,5,6,7,11,9])\n",
    "for i in  var10:\n",
    "    print(i)"
   ]
  },
  {
   "cell_type": "markdown",
   "id": "5cd085b7-b438-48ac-ba53-63a34ac0ab15",
   "metadata": {},
   "source": [
    "# for 2dim array "
   ]
  },
  {
   "cell_type": "code",
   "execution_count": 12,
   "id": "db6b6e87-6d61-4787-89ad-8b53b6dfb4cd",
   "metadata": {},
   "outputs": [
    {
     "name": "stdout",
     "output_type": "stream",
     "text": [
      "[[1 2 3 4 5]\n",
      " [4 5 6 7 8]]\n",
      "\n",
      "[1 2 3 4 5]\n",
      "[4 5 6 7 8]\n",
      "\n",
      "1\n",
      "2\n",
      "3\n",
      "4\n",
      "5\n",
      "4\n",
      "5\n",
      "6\n",
      "7\n",
      "8\n"
     ]
    }
   ],
   "source": [
    "var11 = np.array([[1,2,3,4,5],[4,5,6,7,8]])\n",
    "print(var11)\n",
    "print()\n",
    "\n",
    "for j in var11:\n",
    "    print(j)\n",
    "\n",
    "print()\n",
    "for i in var11:\n",
    "      for l in i:\n",
    "          print(l)"
   ]
  },
  {
   "cell_type": "code",
   "execution_count": 14,
   "id": "1a447126-c7c4-425b-b107-99997aa8f2ca",
   "metadata": {},
   "outputs": [
    {
     "name": "stdout",
     "output_type": "stream",
     "text": [
      "[1 2 3 4 5]\n",
      "[6 7 7 8 9]\n"
     ]
    }
   ],
   "source": [
    "var12 = np.array([[1,2,3,4,5],[6,7,7,8,9]])\n",
    "\n",
    "for i in var12:\n",
    "    print(i)\n",
    "print()\n",
    "\n",
    "for j in var12:\n",
    "    for k in  j:\n",
    "        print()\n"
   ]
  },
  {
   "cell_type": "code",
   "execution_count": 3,
   "id": "18744ea2-c58b-46bb-a5f5-e1b376c989dc",
   "metadata": {},
   "outputs": [
    {
     "name": "stdout",
     "output_type": "stream",
     "text": [
      "[[[2 4 5 7 7]\n",
      "  [6 7 8 9 0]]]\n",
      "\n",
      "2\n",
      "4\n",
      "5\n",
      "7\n",
      "7\n",
      "6\n",
      "7\n",
      "8\n",
      "9\n",
      "0\n"
     ]
    }
   ],
   "source": [
    "import numpy as np\n",
    "var13 = np.array([[[2,4,5,7,7],[6,7,8,9,0]]])\n",
    "print(var13)\n",
    "print()\n",
    "\n",
    "\n",
    "\n",
    "for j in var13:\n",
    "    for k in j:\n",
    "        for t in k:\n",
    "            print(t)\n",
    "        \n",
    "        \n"
   ]
  },
  {
   "cell_type": "markdown",
   "id": "3e3619f9-894b-434f-be27-9981ada7feb8",
   "metadata": {},
   "source": [
    "# for Iterating we use it [nditer()]"
   ]
  },
  {
   "cell_type": "code",
   "execution_count": 9,
   "id": "2d790c4e-b6a6-444d-a4ff-ff72d6657fa9",
   "metadata": {},
   "outputs": [
    {
     "name": "stdout",
     "output_type": "stream",
     "text": [
      "[[[4 5 6 7]\n",
      "  [7 8 9 0]]]\n",
      "\n",
      "3\n",
      "\n",
      "4\n",
      "5\n",
      "6\n",
      "7\n",
      "7\n",
      "8\n",
      "9\n",
      "0\n"
     ]
    }
   ],
   "source": [
    "import numpy as np\n",
    "\n",
    "var14 = np.array([[[4,5,6,7],[7,8,9,0]]])\n",
    "print(var14)\n",
    "print()\n",
    "print(var14.ndim)\n",
    "print()\n",
    "\n",
    "\n",
    "for i in np.nditer(var14):\n",
    "    print(i)\n"
   ]
  },
  {
   "cell_type": "code",
   "execution_count": 6,
   "id": "042b96a2-7b96-4590-b6dc-111e8e1c7aab",
   "metadata": {},
   "outputs": [
    {
     "name": "stdout",
     "output_type": "stream",
     "text": [
      "[[2 3 4 5]\n",
      " [2 3 4 5]]\n",
      "\n",
      "2\n",
      "\n",
      "2\n",
      "3\n",
      "4\n",
      "5\n",
      "2\n",
      "3\n",
      "4\n",
      "5\n"
     ]
    }
   ],
   "source": [
    "import numpy as np\n",
    "var14 = np.array([[2,3,4,5],[2,3,4,5]])\n",
    "print(var14)\n",
    "print()\n",
    "print(var14.ndim)\n",
    "print()\n",
    "\n",
    "for i in np.nditer(var14):\n",
    "    print(i)\n",
    "\n",
    "\n"
   ]
  },
  {
   "cell_type": "code",
   "execution_count": 9,
   "id": "6ab95253-ca60-4402-8bab-a872f20259e3",
   "metadata": {},
   "outputs": [
    {
     "name": "stdout",
     "output_type": "stream",
     "text": [
      "[[2 3 4 5]\n",
      " [2 3 4 5]]\n",
      "\n",
      "2\n",
      "\n",
      "(0, 0) 2\n",
      "(0, 1) 3\n",
      "(0, 2) 4\n",
      "(0, 3) 5\n",
      "(1, 0) 2\n",
      "(1, 1) 3\n",
      "(1, 2) 4\n",
      "(1, 3) 5\n"
     ]
    }
   ],
   "source": [
    "import numpy as np\n",
    "var14 = np.array([[2,3,4,5],[2,3,4,5]])\n",
    "print(var14)\n",
    "print()\n",
    "print(var14.ndim)\n",
    "print()\n",
    "\n",
    "for i,d in np.ndenumerate(var14):\n",
    "    print(i,d)    # data + indaxing is shows \n",
    "\n",
    "\n"
   ]
  },
  {
   "cell_type": "markdown",
   "id": "03ad5008-cb44-449a-a156-484bed88fb47",
   "metadata": {},
   "source": [
    " # Copy vs Views Numpy(for copy any funtions or any thing  in numpy)"
   ]
  },
  {
   "cell_type": "markdown",
   "id": "915619c2-7188-498d-a33d-c81701e3f41a",
   "metadata": {},
   "source": [
    "# copy () funtion "
   ]
  },
  {
   "cell_type": "code",
   "execution_count": 14,
   "id": "1b8befb9-f12c-428d-9185-f318d7743461",
   "metadata": {},
   "outputs": [
    {
     "name": "stdout",
     "output_type": "stream",
     "text": [
      "var : [[1 3 4 5]\n",
      " [2 3 4 5]]\n",
      "copy : [[1 3 4 5]\n",
      " [2 3 4 5]]\n"
     ]
    }
   ],
   "source": [
    "import numpy as np\n",
    "var15 = np.array([[1,3,4,5],[2,3,4,5]])\n",
    "co = var15.copy()\n",
    "print(\"var :\",var15)\n",
    "print(\"copy :\",co)\n"
   ]
  },
  {
   "cell_type": "code",
   "execution_count": 15,
   "id": "b2c0f3cb-60d4-428c-9610-8c2b0b15bd77",
   "metadata": {},
   "outputs": [
    {
     "name": "stdout",
     "output_type": "stream",
     "text": [
      "var : [1 3 4 5]\n",
      "copy : [1 3 4 5]\n"
     ]
    }
   ],
   "source": [
    "import numpy as np\n",
    "var15 = np.array([1,3,4,5])\n",
    "co = var15.copy()\n",
    "print(\"var :\",var15)\n",
    "print(\"copy :\",co)\n"
   ]
  },
  {
   "cell_type": "markdown",
   "id": "c7552764-9c18-4760-9c53-182c16a94ec9",
   "metadata": {},
   "source": [
    "# view() funtion"
   ]
  },
  {
   "cell_type": "code",
   "execution_count": 17,
   "id": "96725041-30e6-4d70-bc8f-c811816cc315",
   "metadata": {},
   "outputs": [
    {
     "name": "stdout",
     "output_type": "stream",
     "text": [
      "x : [5 6 7 8 9]\n",
      "view : [5 6 7 8 9]\n"
     ]
    }
   ],
   "source": [
    "x = np.array([5,6,7,8,9])\n",
    "vi = x.view()\n",
    "print(\"x :\", x )\n",
    "print(\"view :\",vi )\n"
   ]
  },
  {
   "cell_type": "markdown",
   "id": "9293b844-57b2-4f88-9ad6-a5be3e9be29f",
   "metadata": {},
   "source": [
    "# Joining & Split NumPy Arrays Using"
   ]
  },
  {
   "cell_type": "code",
   "execution_count": null,
   "id": "ee92106c-922d-40d9-835c-d1d6981f0b3b",
   "metadata": {},
   "outputs": [],
   "source": []
  },
  {
   "cell_type": "markdown",
   "id": "629da8c8-a0a3-40ce-a581-86a888680b7f",
   "metadata": {},
   "source": [
    "# join arrray"
   ]
  },
  {
   "cell_type": "code",
   "execution_count": null,
   "id": "f1004167-bd71-4151-90e2-fd5930b26a1a",
   "metadata": {},
   "outputs": [],
   "source": []
  },
  {
   "cell_type": "markdown",
   "id": "dce8c2ba-d0ea-40c8-8761-692180b5192b",
   "metadata": {},
   "source": [
    "# one 1dim array join "
   ]
  },
  {
   "cell_type": "code",
   "execution_count": 1,
   "id": "6e859e47-9927-4fb5-8121-5ab8125ea95b",
   "metadata": {},
   "outputs": [
    {
     "name": "stdout",
     "output_type": "stream",
     "text": [
      "[2 3 4 5 6 7 8 9]\n"
     ]
    }
   ],
   "source": [
    "import numpy as np\n",
    "\n",
    "var1 = np.array([2,3,4,5])\n",
    "var2 = np.array([6,7,8,9])\n",
    "\n",
    "arr = np.concatenate((var1,var2))\n",
    "print(arr)\n"
   ]
  },
  {
   "cell_type": "code",
   "execution_count": 2,
   "id": "6132eaee-6768-4a35-8dcb-9a79616f3757",
   "metadata": {},
   "outputs": [
    {
     "name": "stdout",
     "output_type": "stream",
     "text": [
      "[20 30 40 50 60 70 80  0]\n"
     ]
    }
   ],
   "source": [
    "import numpy as np\n",
    "\n",
    "var1 = np.array([20,30,40,50])\n",
    "var2 = np.array([60,70,80,0])\n",
    "\n",
    "arr = np.concatenate((var1,var2))\n",
    "print(arr)\n"
   ]
  },
  {
   "cell_type": "markdown",
   "id": "f4482c16-bb8d-49c4-b260-bf7027d7d811",
   "metadata": {},
   "source": [
    "# 2dim array "
   ]
  },
  {
   "cell_type": "code",
   "execution_count": 5,
   "id": "161c6401-24a5-4c62-9fae-f42544dedc51",
   "metadata": {},
   "outputs": [
    {
     "name": "stdout",
     "output_type": "stream",
     "text": [
      "[[3 4 5 6]\n",
      " [7 8 9 0]]\n",
      "\n",
      "[[10 20 30 40]\n",
      " [50 60 60 70]]\n",
      "\n",
      "[[ 3  4  5  6 10 20 30 40]\n",
      " [ 7  8  9  0 50 60 60 70]]\n"
     ]
    }
   ],
   "source": [
    "var3 = np.array([[3,4,5,6],[7,8,9,0]])\n",
    "var4 = np.array([[10,20,30,40],[50,60,60,70]])\n",
    "arr_new = np.concatenate((var3,var4),axis = 1)\n",
    "print(var3)\n",
    "print()\n",
    "print(var4)     # 1 ---> is  rows \n",
    "print()\n",
    "print(arr_new) # 2 ---> columns \n"
   ]
  },
  {
   "cell_type": "code",
   "execution_count": 6,
   "id": "b04bb0b1-cf78-44b3-801a-5ad74f3bdb15",
   "metadata": {},
   "outputs": [
    {
     "name": "stdout",
     "output_type": "stream",
     "text": [
      "[[3 4 5 6]\n",
      " [7 8 9 0]]\n",
      "\n",
      "[[10 20 30 40]\n",
      " [50 60 60 70]]\n",
      "\n",
      "[[ 3  4  5  6]\n",
      " [ 7  8  9  0]\n",
      " [10 20 30 40]\n",
      " [50 60 60 70]]\n"
     ]
    }
   ],
   "source": [
    "var3 = np.array([[3,4,5,6],[7,8,9,0]])\n",
    "var4 = np.array([[10,20,30,40],[50,60,60,70]])\n",
    "arr_new = np.concatenate((var3,var4),axis = 0)\n",
    "print(var3)\n",
    "print()\n",
    "print(var4)     # 1 ---> is  rows \n",
    "print()\n",
    "print(arr_new) # 2 ---> columns \n"
   ]
  },
  {
   "cell_type": "markdown",
   "id": "aef5a927-7a37-4e36-9759-d9bffd2719c4",
   "metadata": {},
   "source": [
    "# using stack funtions to join (marje)"
   ]
  },
  {
   "cell_type": "code",
   "execution_count": 2,
   "id": "a08bcded-654f-47bc-9b58-eae50d89592e",
   "metadata": {},
   "outputs": [
    {
     "name": "stdout",
     "output_type": "stream",
     "text": [
      "[[2 6]\n",
      " [3 7]\n",
      " [4 8]\n",
      " [5 9]]\n"
     ]
    }
   ],
   "source": [
    "import numpy as np \n",
    "var5  = np.array([2,3,4,5])\n",
    "var6 =    np.array([6,7,8,9])\n",
    "\n",
    "var_new = np.stack((var5,var6),axis = 1)   #stack is used for marjing  in axis (in array)\n",
    "print(var_new)"
   ]
  },
  {
   "cell_type": "markdown",
   "id": "2e9322ca-a5cd-45e2-b278-0f014232674f",
   "metadata": {},
   "source": [
    "# without axis we can marje in rows or columns in array "
   ]
  },
  {
   "cell_type": "code",
   "execution_count": 11,
   "id": "ed8a836c-4af9-4e4a-bca8-effd57f55dae",
   "metadata": {},
   "outputs": [
    {
     "name": "stdout",
     "output_type": "stream",
     "text": [
      "[2 3 4 5 6 7 8 9]\n",
      "\n",
      "[[2 3 4 5]\n",
      " [6 7 8 9]]\n",
      "\n",
      "[[[ 2 10]\n",
      "  [ 3 11]\n",
      "  [ 4 12]\n",
      "  [ 5 13]]]\n",
      "\n"
     ]
    }
   ],
   "source": [
    "var7 = np.array([2,3,4,5])\n",
    "var8 = np.array([6,7,8,9])    # it is marjing in rows \n",
    "\n",
    "var_new = np.hstack((var7,var8)) # ROWS \n",
    "\n",
    "var_new1 = np.vstack((var7,var8))# CLOUMNS \n",
    "\n",
    "var_new2 = np.dstack((var7,var9))# HEIGHT \n",
    "\n",
    "print(var_new)\n",
    "print()\n",
    "print(var_new1)\n",
    "print()\n",
    "print(var_new2)\n",
    "print()"
   ]
  },
  {
   "cell_type": "code",
   "execution_count": 4,
   "id": "55b4429b-227c-47bc-9574-4c4ef56a1a1f",
   "metadata": {},
   "outputs": [
    {
     "name": "stdout",
     "output_type": "stream",
     "text": [
      "[[10 11 12 13]\n",
      " [14 15 16 17]]\n"
     ]
    }
   ],
   "source": [
    "# it marjing in columns (in given array )\n",
    "var9 = np.array([10,11,12,13])\n",
    "var10 = np.array([14,15,16,17])\n",
    "\n",
    "var_new = np.vstack((var9,var10))\n",
    "print(var_new)\n"
   ]
  },
  {
   "cell_type": "markdown",
   "id": "6ee5149c-b3f8-4410-98c6-ebdd607745a8",
   "metadata": {},
   "source": [
    "# aplit array "
   ]
  },
  {
   "cell_type": "code",
   "execution_count": 16,
   "id": "dea6601a-9c37-4bba-b721-26d8fac85554",
   "metadata": {},
   "outputs": [
    {
     "name": "stdout",
     "output_type": "stream",
     "text": [
      "[1 2 3 4 5 6]\n",
      "\n",
      "[array([1]), array([2]), array([3]), array([4]), array([5]), array([6])]\n",
      "\n",
      "<class 'list'>\n",
      "\n",
      "[1]\n"
     ]
    }
   ],
   "source": [
    "# spliting one dim array \n",
    "import numpy as np\n",
    "var11 = np.array([1,2,3,4,5,6])\n",
    "print(var11)\n",
    "print()\n",
    "new_sp = np.array_split(var11,6)  # 6 ---> is shows the array is split in 6 parts \n",
    "print(new_sp)\n",
    "print()\n",
    "print(type(new_sp))\n",
    "print()\n",
    "print(new_sp[0])  # inding of list "
   ]
  },
  {
   "cell_type": "code",
   "execution_count": 2,
   "id": "d8d7d219-7f61-48d0-8467-b2c3994180fc",
   "metadata": {},
   "outputs": [
    {
     "name": "stdout",
     "output_type": "stream",
     "text": [
      "[1 2 3 4 5 6]\n",
      "\n"
     ]
    },
    {
     "ename": "IndexError",
     "evalue": "tuple index out of range",
     "output_type": "error",
     "traceback": [
      "\u001b[1;31m---------------------------------------------------------------------------\u001b[0m",
      "\u001b[1;31mIndexError\u001b[0m                                Traceback (most recent call last)",
      "Cell \u001b[1;32mIn[2], line 9\u001b[0m\n\u001b[0;32m      7\u001b[0m \u001b[38;5;28mprint\u001b[39m()\n\u001b[0;32m      8\u001b[0m ar1 \u001b[38;5;241m=\u001b[39m np\u001b[38;5;241m.\u001b[39marray([[\u001b[38;5;241m1\u001b[39m,\u001b[38;5;241m2\u001b[39m],[\u001b[38;5;241m3\u001b[39m,\u001b[38;5;241m4\u001b[39m],[\u001b[38;5;241m5\u001b[39m,\u001b[38;5;241m6\u001b[39m]])\n\u001b[1;32m----> 9\u001b[0m va1 \u001b[38;5;241m=\u001b[39m \u001b[43mnp\u001b[49m\u001b[38;5;241;43m.\u001b[39;49m\u001b[43marray_split\u001b[49m\u001b[43m(\u001b[49m\u001b[43mvar12\u001b[49m\u001b[43m,\u001b[49m\u001b[38;5;241;43m3\u001b[39;49m\u001b[43m,\u001b[49m\u001b[43maxis\u001b[49m\u001b[43m \u001b[49m\u001b[38;5;241;43m=\u001b[39;49m\u001b[43m \u001b[49m\u001b[38;5;241;43m1\u001b[39;49m\u001b[43m)\u001b[49m\n\u001b[0;32m     10\u001b[0m \u001b[38;5;28mprint\u001b[39m(va1)\n",
      "File \u001b[1;32m~\\AppData\\Local\\Programs\\Python\\Python311\\Lib\\site-packages\\numpy\\lib\\shape_base.py:759\u001b[0m, in \u001b[0;36marray_split\u001b[1;34m(ary, indices_or_sections, axis)\u001b[0m\n\u001b[0;32m    733\u001b[0m \u001b[38;5;250m\u001b[39m\u001b[38;5;124;03m\"\"\"\u001b[39;00m\n\u001b[0;32m    734\u001b[0m \u001b[38;5;124;03mSplit an array into multiple sub-arrays.\u001b[39;00m\n\u001b[0;32m    735\u001b[0m \n\u001b[1;32m   (...)\u001b[0m\n\u001b[0;32m    756\u001b[0m \n\u001b[0;32m    757\u001b[0m \u001b[38;5;124;03m\"\"\"\u001b[39;00m\n\u001b[0;32m    758\u001b[0m \u001b[38;5;28;01mtry\u001b[39;00m:\n\u001b[1;32m--> 759\u001b[0m     Ntotal \u001b[38;5;241m=\u001b[39m \u001b[43mary\u001b[49m\u001b[38;5;241;43m.\u001b[39;49m\u001b[43mshape\u001b[49m\u001b[43m[\u001b[49m\u001b[43maxis\u001b[49m\u001b[43m]\u001b[49m\n\u001b[0;32m    760\u001b[0m \u001b[38;5;28;01mexcept\u001b[39;00m \u001b[38;5;167;01mAttributeError\u001b[39;00m:\n\u001b[0;32m    761\u001b[0m     Ntotal \u001b[38;5;241m=\u001b[39m \u001b[38;5;28mlen\u001b[39m(ary)\n",
      "\u001b[1;31mIndexError\u001b[0m: tuple index out of range"
     ]
    }
   ],
   "source": [
    "# spliting in 2 dim array (using slit () funtion )\n",
    "import numpy as np\n",
    "var12 = np.array([1,2,3,4,5,6])\n",
    "\n",
    "print(var12)\n",
    "\n",
    "print()\n",
    "ar1 = np.array([[1,2],[3,4],[5,6]])\n",
    "va1 = np.array_split(var12,3,axis = 1)\n",
    "print(va1)\n",
    "\n"
   ]
  },
  {
   "cell_type": "markdown",
   "id": "b02de9aa-6386-4918-bb34-a6d49a1ec3fa",
   "metadata": {},
   "source": [
    "# Search in numpy array"
   ]
  },
  {
   "cell_type": "markdown",
   "id": "9e857ffe-f308-49b2-a459-173c1fd08435",
   "metadata": {},
   "source": [
    "# for 1dim array "
   ]
  },
  {
   "cell_type": "code",
   "execution_count": 2,
   "id": "cdb15aaf-27b6-472a-9990-a60615197b1a",
   "metadata": {},
   "outputs": [
    {
     "name": "stdout",
     "output_type": "stream",
     "text": [
      "[1 2 3 4 5 6 7]\n"
     ]
    }
   ],
   "source": [
    "import numpy as np\n",
    "var1 = np.array([1,2,3,4,5,6,7])\n",
    "print(var1)\n",
    "print()\n",
    "print"
   ]
  },
  {
   "cell_type": "code",
   "execution_count": 2,
   "id": "40c12b68-1a70-4bc5-ab59-01f0e7c79396",
   "metadata": {},
   "outputs": [
    {
     "name": "stdout",
     "output_type": "stream",
     "text": [
      "(array([1, 5, 9], dtype=int64),)\n"
     ]
    }
   ],
   "source": [
    "## import numpy as np\n",
    "var2 = np.array([1,2,3,4,5,2,6,4,3,2,1,8])\n",
    "a = np.where(var2 == 2)   # output comes indexing \n",
    "print(a)"
   ]
  },
  {
   "cell_type": "code",
   "execution_count": 3,
   "id": "11eb43e1-346c-46e9-a77c-a6feea355b41",
   "metadata": {},
   "outputs": [
    {
     "name": "stdout",
     "output_type": "stream",
     "text": [
      "(array([], dtype=int64),)\n"
     ]
    }
   ],
   "source": [
    "## import numpy as np\n",
    "var2 = np.array([1,2,3,4,5,2,6,4,3,2,1,8])\n",
    "a = np.where((var2%2) == 2)   # output comes indexing \n",
    "print(a)"
   ]
  },
  {
   "cell_type": "markdown",
   "id": "7195f7c4-c4a2-4b32-9d20-78d2e7c53fb8",
   "metadata": {},
   "source": [
    "# Search sorted array "
   ]
  },
  {
   "cell_type": "code",
   "execution_count": 5,
   "id": "87356687-bad6-4e0f-b2ab-b4136b08c68b",
   "metadata": {},
   "outputs": [
    {
     "name": "stdout",
     "output_type": "stream",
     "text": [
      "4\n"
     ]
    }
   ],
   "source": [
    "var3 = np.array([1,2,3,4,6,7,8,9])\n",
    "\n",
    "z = np.searchsorted(var3,5)\n",
    "\n",
    "print(z)\n"
   ]
  },
  {
   "cell_type": "code",
   "execution_count": 6,
   "id": "ae346ebf-d542-4360-9cd1-7e12d399beef",
   "metadata": {},
   "outputs": [
    {
     "name": "stdout",
     "output_type": "stream",
     "text": [
      "8\n"
     ]
    }
   ],
   "source": [
    "var3 = np.array([1,2,3,4,6,7,8,9])\n",
    "\n",
    "z = np.searchsorted(var3,10) # inserting of 10 in array then shows the indixing is 8\n",
    "\n",
    "print(z)\n"
   ]
  },
  {
   "cell_type": "markdown",
   "id": "b770299c-cede-4667-8612-e116f7ef6f43",
   "metadata": {},
   "source": [
    "# Sort Array "
   ]
  },
  {
   "cell_type": "code",
   "execution_count": 8,
   "id": "975bc849-995c-4669-ba06-fcb5372f1dc8",
   "metadata": {},
   "outputs": [
    {
     "name": "stdout",
     "output_type": "stream",
     "text": [
      "[ 3 54  5  6  1  2  7  5  8  7  9]\n",
      "\n",
      "[ 1  2  3  5  5  6  7  7  8  9 54]\n"
     ]
    }
   ],
   "source": [
    "# shorting all the array in given bellow \n",
    "var4 = np.array([3,54,5,6,1,2,7,5,8,7,9])\n",
    "print(var4)\n",
    "\n",
    "print()\n",
    "\n",
    "print(np.sort(var4))   # shoting funtions here use "
   ]
  },
  {
   "cell_type": "code",
   "execution_count": 10,
   "id": "9d235884-6094-4a8c-8e80-c382a14eb5c0",
   "metadata": {},
   "outputs": [
    {
     "name": "stdout",
     "output_type": "stream",
     "text": [
      "['a' 'r' 'b' 'd' 'c']\n",
      "['a' 'b' 'c' 'd' 'r']\n"
     ]
    }
   ],
   "source": [
    "var5 = np.array([\"a\",\"r\",\"b\",\"d\",\"c\"])\n",
    "print(var5)\n",
    "print(np.sort(var5)) # shorting in array with string \n",
    "      "
   ]
  },
  {
   "cell_type": "markdown",
   "id": "6adc6395-42f4-4de4-bc74-5e5dee24923a",
   "metadata": {},
   "source": [
    "# 2 dim  array shorting in numpy "
   ]
  },
  {
   "cell_type": "code",
   "execution_count": 12,
   "id": "d9b2d668-3ab2-4055-a677-b14c08ae6c0a",
   "metadata": {},
   "outputs": [
    {
     "name": "stdout",
     "output_type": "stream",
     "text": [
      "[[2 5 1]\n",
      " [5 3 2]\n",
      " [8 1 2]]\n",
      "[[1 2 5]\n",
      " [2 3 5]\n",
      " [1 2 8]]\n"
     ]
    }
   ],
   "source": [
    "var6 = np.array([[2,5,1],[5,3,2],[8,1,2]])\n",
    "print(var6)\n",
    "print(np.sort(var6))"
   ]
  },
  {
   "cell_type": "code",
   "execution_count": 15,
   "id": "56ba2f46-7b3e-422c-87b0-d9247990d75e",
   "metadata": {},
   "outputs": [
    {
     "name": "stdout",
     "output_type": "stream",
     "text": [
      "[[50  4  6]\n",
      " [11  5  6]\n",
      " [ 8  6  6]]\n",
      "[[ 4  6 50]\n",
      " [ 5  6 11]\n",
      " [ 6  6  8]]\n"
     ]
    }
   ],
   "source": [
    "var7 = np.array([[50,4,6],[11,5,6],[8,6,6]])\n",
    "print(var7)\n",
    "print(np.sort(var7))"
   ]
  },
  {
   "cell_type": "markdown",
   "id": "b691db60-646f-4dac-9ea9-eaaddff34468",
   "metadata": {},
   "source": [
    " # filter array "
   ]
  },
  {
   "cell_type": "code",
   "execution_count": 18,
   "id": "347ebbd7-cb1e-4ac6-95b1-3712e0a151e3",
   "metadata": {},
   "outputs": [
    {
     "name": "stdout",
     "output_type": "stream",
     "text": [
      "['a' 'b' 'c' 'c']\n",
      "\n",
      "['a' 'c']\n"
     ]
    }
   ],
   "source": [
    "import numpy as np\n",
    "var8 = np.array([\"a\",\"b\",\"c\",\"c\"])\n",
    "print(var8)\n",
    "print()\n",
    "f = [True,False,False,True]\n",
    "new_a = var8[f]\n",
    "print(new_a)\n",
    "\n"
   ]
  },
  {
   "cell_type": "markdown",
   "id": "5171fa13-3438-4089-9701-b81884c330e8",
   "metadata": {},
   "source": [
    "# numpy array funtions "
   ]
  },
  {
   "cell_type": "markdown",
   "id": "530df30a-0e6b-4e23-8988-55d5b0209b2b",
   "metadata": {},
   "source": [
    "# Shuffle()"
   ]
  },
  {
   "cell_type": "code",
   "execution_count": 4,
   "id": "a7f36f53-14bd-487f-9cf2-e075592de61e",
   "metadata": {},
   "outputs": [
    {
     "name": "stdout",
     "output_type": "stream",
     "text": [
      "[5 1 6 7 3 2]\n"
     ]
    }
   ],
   "source": [
    "import numpy as np\n",
    "var1 = np.array([1,2,3,5,6,7])\n",
    "np.random.shuffle(var1)  # we suffle the array (we mix the in numpy array)\n",
    "print(var1)"
   ]
  },
  {
   "cell_type": "code",
   "execution_count": 5,
   "id": "4ec4b352-0491-4133-ab25-52e58147470f",
   "metadata": {},
   "outputs": [
    {
     "name": "stdout",
     "output_type": "stream",
     "text": [
      "[30 20 40 50 10 60 70 70]\n"
     ]
    }
   ],
   "source": [
    "import numpy as np\n",
    "var2 = np.array([10,20,30,40,50,60,70,70])\n",
    "np.random.shuffle(var2)  # we suffle the array (we mix the in numpy array)\n",
    "print(var2)"
   ]
  },
  {
   "cell_type": "markdown",
   "id": "a6314d05-739f-4ab0-b2f5-e16022ccec0f",
   "metadata": {},
   "source": [
    " # Unique()   fiuntions "
   ]
  },
  {
   "cell_type": "code",
   "execution_count": 10,
   "id": "09206986-cf0f-488d-b0b4-eba176b6e4f0",
   "metadata": {},
   "outputs": [
    {
     "name": "stdout",
     "output_type": "stream",
     "text": [
      "(array([ 0,  2,  3,  4,  6,  7, 45]), array([11,  0,  1,  2,  9, 10,  8], dtype=int64), array([3, 3, 3, 2, 1, 1, 1], dtype=int64))\n"
     ]
    }
   ],
   "source": [
    "var3 = np.array([2,3,4,2,3,4,2,3,45,6,7,0,0,0])\n",
    "\n",
    "x = np.unique(var3,return_index = True,return_counts= True) # in above given array we can write the unique elements in numpy array \n",
    "print(x)\n"
   ]
  },
  {
   "cell_type": "code",
   "execution_count": 11,
   "id": "b1209ea4-b210-453f-b043-eea5c85d4f9f",
   "metadata": {},
   "outputs": [
    {
     "name": "stdout",
     "output_type": "stream",
     "text": [
      "[ 29  34  56   4   4   4   4   2   2 267   8   9   7 645  45   5  55  55\n",
      "  45  90  90]\n",
      "\n",
      "[  2   4   5   7   8   9  29  34  45  55  56  90 267 645]\n"
     ]
    }
   ],
   "source": [
    "var4 = np.array([29,34,56,4,4,4,4,2,2,267,8,9,7,645,45,5,55,55,45,90,90])\n",
    "print(var4)\n",
    "print()\n",
    "y = np.unique(var4)\n",
    "print(y)"
   ]
  },
  {
   "cell_type": "markdown",
   "id": "973d0c73-1164-404f-80f7-21286b8b5a52",
   "metadata": {},
   "source": [
    "#  Resize() funtions "
   ]
  },
  {
   "cell_type": "code",
   "execution_count": 3,
   "id": "b26eb84e-df82-4da5-80fa-c93020054132",
   "metadata": {},
   "outputs": [
    {
     "name": "stdout",
     "output_type": "stream",
     "text": [
      "[1 2 3 4 5 6]\n",
      "\n",
      "[[1 2 3]\n",
      " [4 5 6]]\n",
      "\n"
     ]
    }
   ],
   "source": [
    "import numpy as np\n",
    "var5 = np.array([1,2,3,4,5,6])\n",
    "print(var5)\n",
    "print()\n",
    "\n",
    "y = np.resize(var5,(2,3))  # (2,3)----> it shows the resize in rows and columns \n",
    "print(y)\n",
    "print()"
   ]
  },
  {
   "cell_type": "code",
   "execution_count": 6,
   "id": "6e5aa2db-01be-4b44-9a17-f19ece7c08ac",
   "metadata": {},
   "outputs": [
    {
     "name": "stdout",
     "output_type": "stream",
     "text": [
      "[1 2 3 4 5 6]\n",
      "\n",
      "[[1 2 3]\n",
      " [4 5 6]\n",
      " [1 2 3]]\n",
      "\n"
     ]
    }
   ],
   "source": [
    "import numpy as np\n",
    "var5 = np.array([1,2,3,4,5,6])\n",
    "print(var5)\n",
    "print()\n",
    "\n",
    "y = np.resize(var5,(3,3))  # (2,3)----> it shows the resize in rows and columns \n",
    "print(y)\n",
    "print()"
   ]
  },
  {
   "cell_type": "code",
   "execution_count": 7,
   "id": "5f9087ed-c31a-4977-8f78-187b0e65baca",
   "metadata": {},
   "outputs": [
    {
     "name": "stdout",
     "output_type": "stream",
     "text": [
      "[1 2 3 4 5 6]\n",
      "\n",
      "[[1 2]\n",
      " [3 4]\n",
      " [5 6]]\n",
      "\n"
     ]
    }
   ],
   "source": [
    "import numpy as np\n",
    "var5 = np.array([1,2,3,4,5,6])\n",
    "print(var5)\n",
    "print()\n",
    "\n",
    "y = np.resize(var5,(3,2))  # (2,3)----> it shows the resize in rows and columns \n",
    "print(y)\n",
    "print()"
   ]
  },
  {
   "cell_type": "markdown",
   "id": "f1f47e05-38e2-44a3-860c-dc8555d02719",
   "metadata": {},
   "source": [
    "# flatten() funtions \n"
   ]
  },
  {
   "cell_type": "code",
   "execution_count": 11,
   "id": "99378cb8-02cf-404d-9bb7-1fee379feff8",
   "metadata": {},
   "outputs": [
    {
     "name": "stdout",
     "output_type": "stream",
     "text": [
      "[1 2 3 4 5 6]\n",
      "\n",
      "[[1 2 3]\n",
      " [4 5 6]]\n",
      "\n",
      "[1 2 3 4 5 6]\n",
      "\n"
     ]
    }
   ],
   "source": [
    "# the funtions shows that (it convert into 1dim into 2 two dim array )\n",
    "\n",
    "var6 = np.array([1,2,3,4,5,6])\n",
    "print(var6)\n",
    "print()\n",
    "y = np.resize(var6,(2,3))\n",
    "\n",
    "print(y)\n",
    "print()\n",
    "print(y.flatten())\n",
    "print()\n"
   ]
  },
  {
   "cell_type": "markdown",
   "id": "39ccacfc-f72b-4267-b5d7-defc4911fd15",
   "metadata": {},
   "source": [
    "#  NumPy Insert and Delete Arrays Functions"
   ]
  },
  {
   "cell_type": "code",
   "execution_count": null,
   "id": "a63f0e60-5780-4218-a59c-edc2b950bd9d",
   "metadata": {},
   "outputs": [],
   "source": [
    "# "
   ]
  },
  {
   "cell_type": "code",
   "execution_count": null,
   "id": "35c8146b-a07c-490d-8ee2-61f4346c150b",
   "metadata": {},
   "outputs": [],
   "source": []
  },
  {
   "cell_type": "code",
   "execution_count": null,
   "id": "4246dcd6-a30c-4d76-93ab-ae696c63dd53",
   "metadata": {},
   "outputs": [],
   "source": []
  },
  {
   "cell_type": "code",
   "execution_count": null,
   "id": "8a966672-35f7-4876-95d2-694ecd59766c",
   "metadata": {},
   "outputs": [],
   "source": []
  },
  {
   "cell_type": "code",
   "execution_count": null,
   "id": "b65c4a8c-215b-4d97-99f0-a5c084475127",
   "metadata": {},
   "outputs": [],
   "source": []
  },
  {
   "cell_type": "code",
   "execution_count": null,
   "id": "02e84c8a-1c1e-4b06-84cc-7609fe649f4e",
   "metadata": {},
   "outputs": [],
   "source": []
  },
  {
   "cell_type": "markdown",
   "id": "cadf96f5-8d11-44d5-9602-a8f2f770ef27",
   "metadata": {},
   "source": [
    "# The Concept of Matrix Numpy Arrays in Python"
   ]
  },
  {
   "cell_type": "code",
   "execution_count": 2,
   "id": "8f03639a-74e9-42c5-85b0-d46c9e00d4fd",
   "metadata": {},
   "outputs": [
    {
     "name": "stdout",
     "output_type": "stream",
     "text": [
      "[[1 2 3]\n",
      " [4 5 6]]\n",
      "\n",
      "<class 'numpy.matrix'>\n",
      "\n"
     ]
    }
   ],
   "source": [
    "# creating a matrix in numpy array \n",
    "import numpy as np\n",
    "var1 = np.matrix([[1,2,3],[4,5,6]])\n",
    "print(var1)\n",
    "print()\n",
    "print(type(var1)) # here we are cheaking which type of data is \n",
    "print()"
   ]
  },
  {
   "cell_type": "markdown",
   "id": "7ba44912-e8f9-4888-8c48-523fd65d607d",
   "metadata": {},
   "source": [
    "# Arithmetic operation in matrix "
   ]
  },
  {
   "cell_type": "code",
   "execution_count": 7,
   "id": "0b6838a1-eefd-416a-b716-f9f7a7897184",
   "metadata": {},
   "outputs": [
    {
     "name": "stdout",
     "output_type": "stream",
     "text": [
      "[[1 2 3]\n",
      " [4 5 6]]\n",
      "\n",
      "[[1 2 3]\n",
      " [4 5 6]]\n",
      "\n",
      "[[ 2  4  6]\n",
      " [ 8 10 12]]\n",
      "\n",
      "[[0 0 0]\n",
      " [0 0 0]]\n",
      "\n"
     ]
    }
   ],
   "source": [
    "# The addictions of matrix (subtraiton is also )\n",
    "var3 = np.matrix([[1,2,3],[4,5,6]])\n",
    "var4 = np.matrix([[1,2,3],[4,5,6]])\n",
    "print(var3)\n",
    "print()\n",
    "print(var4)\n",
    "print()\n",
    "print(var3 +var4)     # add\n",
    "print()\n",
    "print(var2 - var4) # sub \n",
    "print()"
   ]
  },
  {
   "cell_type": "code",
   "execution_count": 8,
   "id": "ce58c9ca-220a-48b9-b5c7-662223253375",
   "metadata": {},
   "outputs": [
    {
     "name": "stdout",
     "output_type": "stream",
     "text": [
      "[[1 2]\n",
      " [2 4]]\n",
      "\n",
      "[[3 5]\n",
      " [1 2]]\n",
      "\n",
      "[[ 5  9]\n",
      " [10 18]]\n",
      "\n",
      "[[ 5  9]\n",
      " [10 18]]\n",
      "\n"
     ]
    }
   ],
   "source": [
    "# multipations in matrix (using of funtions is [ dot() ] funtions )\n",
    "var5 = np.matrix([[1,2],[2,4]])\n",
    "var6 = np.matrix([[3,5],[1,2]])\n",
    "print(var5)\n",
    "print()\n",
    "print(var6)\n",
    "print()\n",
    "print(var5*var6)  # normal multipation\n",
    "print()\n",
    "print(var5.dot(var6))  # mutipations using funtion\n",
    "print()"
   ]
  },
  {
   "cell_type": "code",
   "execution_count": 4,
   "id": "25436aca-41af-45d0-a4c2-0aa819d79628",
   "metadata": {},
   "outputs": [
    {
     "name": "stdout",
     "output_type": "stream",
     "text": [
      "[[1 2 3]\n",
      " [4 5 6]]\n",
      "\n",
      "<class 'numpy.ndarray'>\n",
      "\n"
     ]
    }
   ],
   "source": [
    "# differance b/w matrix and array (data is same but data type  is differant )\n",
    "var2 = np.array([[1,2,3],[4,5,6]])\n",
    "print(var2)\n",
    "print()\n",
    "print(type(var2))\n",
    "print()"
   ]
  },
  {
   "cell_type": "markdown",
   "id": "30934033-c4f8-4418-9bd3-f90fd586ea23",
   "metadata": {},
   "source": [
    "# In matrix using diff funtion of numpy "
   ]
  },
  {
   "cell_type": "markdown",
   "id": "2033e89a-0a8a-46b7-a0ee-033c8a148660",
   "metadata": {},
   "source": [
    "# 1 ---> Transpose () funtion"
   ]
  },
  {
   "cell_type": "code",
   "execution_count": 10,
   "id": "85cb5737-ada1-4996-9c2a-c3f5b262c8a6",
   "metadata": {},
   "outputs": [
    {
     "name": "stdout",
     "output_type": "stream",
     "text": [
      "[[10 20 30]\n",
      " [40 50 60]]\n",
      "\n",
      "[[10 40]\n",
      " [20 50]\n",
      " [30 60]]\n",
      "\n"
     ]
    }
   ],
   "source": [
    "# another eaxmple \n",
    "var9 = np.matrix([[10,20,30],[40,50,60]])\n",
    "print(var9)\n",
    "print()\n",
    "print(np.transpose(var9))\n",
    "print()"
   ]
  },
  {
   "cell_type": "code",
   "execution_count": 9,
   "id": "cae03c92-e804-46aa-8f2d-91a6178bfa2c",
   "metadata": {},
   "outputs": [
    {
     "name": "stdout",
     "output_type": "stream",
     "text": [
      "[[1 2 3]\n",
      " [4 5 6]]\n",
      "\n",
      "[[1 4]\n",
      " [2 5]\n",
      " [3 6]]\n",
      "\n"
     ]
    }
   ],
   "source": [
    "var8 = np.matrix([[1,2,3],[4,5,6]])\n",
    "print(var8)\n",
    "print()\n",
    "print(np.transpose(var8))\n",
    "print()"
   ]
  },
  {
   "cell_type": "code",
   "execution_count": 11,
   "id": "14d86fe6-4cac-4095-9efd-ab52663d1bfd",
   "metadata": {},
   "outputs": [
    {
     "name": "stdout",
     "output_type": "stream",
     "text": [
      "[[1 2 3]\n",
      " [4 5 6]]\n",
      "\n",
      "[[1 4]\n",
      " [2 5]\n",
      " [3 6]]\n",
      "\n"
     ]
    }
   ],
   "source": [
    "# shortcut method to do transpose \n",
    "var8 = np.matrix([[1,2,3],[4,5,6]])\n",
    "print(var8)\n",
    "print()\n",
    "print(var8.T)  # T is shortcut of transpose \n",
    "print()"
   ]
  },
  {
   "cell_type": "markdown",
   "id": "5c2a5bde-d98f-40dd-8a16-e757f7b406e2",
   "metadata": {},
   "source": [
    "#  2 ---> Swapaxes () funtion "
   ]
  },
  {
   "cell_type": "code",
   "execution_count": 13,
   "id": "27211389-9c6b-4dcb-837c-33fab0fada7b",
   "metadata": {},
   "outputs": [
    {
     "name": "stdout",
     "output_type": "stream",
     "text": [
      "[[1 2]\n",
      " [3 4]]\n",
      "\n",
      "[[1 3]\n",
      " [2 4]]\n",
      "\n"
     ]
    }
   ],
   "source": [
    "#  it is just like transpose (in which rows change in cloumns or viesverse \n",
    "var9 = np.matrix([[1,2],[3,4]])\n",
    "print(var9)\n",
    "print()\n",
    "print(np.swapaxes(var9,0,1))\n",
    "print()"
   ]
  },
  {
   "cell_type": "markdown",
   "id": "95754d69-ffe6-49d6-8a37-8958eb41058b",
   "metadata": {},
   "source": [
    "# Inverse () (matrix funtion )"
   ]
  },
  {
   "cell_type": "code",
   "execution_count": 16,
   "id": "521bbb9a-fa0e-4dc2-9f62-d4fc810cdba3",
   "metadata": {},
   "outputs": [
    {
     "name": "stdout",
     "output_type": "stream",
     "text": [
      "[[1 2]\n",
      " [3 4]]\n",
      "\n",
      "[[-2.   1. ]\n",
      " [ 1.5 -0.5]]\n",
      "\n"
     ]
    }
   ],
   "source": [
    "import numpy as np\n",
    "var10 = np.matrix([[1,2],[3,4]])\n",
    "print(var10)\n",
    "print()\n",
    "\n",
    "print(np.linalg.inv(var10))\n",
    "print()"
   ]
  },
  {
   "cell_type": "markdown",
   "id": "ef5ae7a2-de9f-4f58-bb5a-10283ea21034",
   "metadata": {},
   "source": [
    "# power () (Matrix funtion)"
   ]
  },
  {
   "cell_type": "code",
   "execution_count": null,
   "id": "cbbcae53-2f3a-4ba0-8fd0-9e6528623936",
   "metadata": {},
   "outputs": [],
   "source": []
  }
 ],
 "metadata": {
  "kernelspec": {
   "display_name": "Python 3 (ipykernel)",
   "language": "python",
   "name": "python3"
  },
  "language_info": {
   "codemirror_mode": {
    "name": "ipython",
    "version": 3
   },
   "file_extension": ".py",
   "mimetype": "text/x-python",
   "name": "python",
   "nbconvert_exporter": "python",
   "pygments_lexer": "ipython3",
   "version": "3.11.4"
  }
 },
 "nbformat": 4,
 "nbformat_minor": 5
}
