{
 "cells": [
  {
   "cell_type": "markdown",
   "id": "59e56b93-480f-4454-b830-72e32f1aba98",
   "metadata": {},
   "source": [
    "# Array"
   ]
  },
  {
   "cell_type": "code",
   "execution_count": 6,
   "id": "d839b6e0-581c-4cd3-b6d2-43efbe1e6e3f",
   "metadata": {},
   "outputs": [
    {
     "name": "stdout",
     "output_type": "stream",
     "text": [
      "[1 3 4 5]\n",
      "<class 'numpy.ndarray'>\n",
      "1\n"
     ]
    }
   ],
   "source": [
    "import numpy as np\n",
    "x =[1,3,4,5]\n",
    "y = np.array(x)\n",
    "print(y)\n",
    "print(type(y))\n",
    "print(y.ndim)"
   ]
  },
  {
   "cell_type": "code",
   "execution_count": 5,
   "id": "6d3b69ea-69df-4ab9-aa15-dce27f2c4ccf",
   "metadata": {},
   "outputs": [
    {
     "name": "stdin",
     "output_type": "stream",
     "text": [
      "Enter a number : 13\n",
      "Enter a number : 14\n",
      "Enter a number : 15\n",
      "Enter a number : 16\n"
     ]
    },
    {
     "name": "stdout",
     "output_type": "stream",
     "text": [
      "[13 14 15 16]\n"
     ]
    }
   ],
   "source": [
    "l = []\n",
    "for i in range(1,5):\n",
    "    int_1 =int(input(\"Enter a number :\"))\n",
    "    l.append(int_1)\n",
    "\n",
    "print(np.array(l))"
   ]
  },
  {
   "cell_type": "code",
   "execution_count": 10,
   "id": "905a1dbf-512a-4780-b5f5-452d7dd50676",
   "metadata": {},
   "outputs": [
    {
     "name": "stdout",
     "output_type": "stream",
     "text": [
      "[[1 2 3 4]\n",
      " [1 2 3 4]]\n",
      "2\n"
     ]
    }
   ],
   "source": [
    "ar2 = np.array([[1,2,3,4],[1,2,3,4]])\n",
    "print(ar2)\n",
    "print(ar2.ndim)"
   ]
  },
  {
   "cell_type": "code",
   "execution_count": 12,
   "id": "ee23bf3c-9f50-4c2c-bd44-1bf40ff0af4c",
   "metadata": {},
   "outputs": [
    {
     "name": "stdout",
     "output_type": "stream",
     "text": [
      "[[[1 2 3 4]\n",
      "  [1 2 3 4]\n",
      "  [1 2 3 4]]]\n",
      "3\n",
      "<class 'numpy.ndarray'>\n"
     ]
    }
   ],
   "source": [
    "ar3 = np.array([[[1,2,3,4],[1,2,3,4],[1,2,3,4]]])\n",
    "print(ar3)\n",
    "print(ar3.ndim)\n",
    "print(type(ar3))"
   ]
  },
  {
   "cell_type": "markdown",
   "id": "cc81d731-4160-4452-bb5c-8f5ebeaa50ea",
   "metadata": {},
   "source": []
  },
  {
   "cell_type": "code",
   "execution_count": 18,
   "id": "616749b0-274f-43c9-8dc3-8ae7b49822a1",
   "metadata": {},
   "outputs": [
    {
     "name": "stdout",
     "output_type": "stream",
     "text": [
      "[[[[[[[[[[1 2 3 4]]]]]]]]]]\n",
      "10\n"
     ]
    }
   ],
   "source": [
    "arn = np.array([1,2,3,4],ndmin = 10)\n",
    "print(arn)\n",
    "print(arn.ndim)"
   ]
  },
  {
   "cell_type": "markdown",
   "id": "2ad7b7a1-0908-4cec-8cf5-e057a72f375e",
   "metadata": {},
   "source": [
    "# zero"
   ]
  },
  {
   "cell_type": "code",
   "execution_count": 25,
   "id": "c406609e-6006-4fb0-af63-9953878bd4bf",
   "metadata": {},
   "outputs": [
    {
     "name": "stdout",
     "output_type": "stream",
     "text": [
      "[1. 1. 1. 1.]\n"
     ]
    }
   ],
   "source": [
    "ar_one = np.ones(4)\n",
    "print(ar_one)\n"
   ]
  },
  {
   "cell_type": "markdown",
   "id": "6161ad1b-5142-46b7-9035-1f1fe215c8f5",
   "metadata": {},
   "source": [
    "# empty"
   ]
  },
  {
   "cell_type": "code",
   "execution_count": 26,
   "id": "acf65623-98da-4d9a-8dfd-6858c5171884",
   "metadata": {},
   "outputs": [
    {
     "name": "stdout",
     "output_type": "stream",
     "text": [
      "[1. 1. 1. 1.]\n"
     ]
    }
   ],
   "source": [
    "ar_em = np.empty(4)\n",
    "print(ar_em)"
   ]
  },
  {
   "cell_type": "markdown",
   "id": "0815d0c8-1104-4dbe-89fd-0a2d88ca382c",
   "metadata": {},
   "source": [
    "#Range"
   ]
  },
  {
   "cell_type": "code",
   "execution_count": 55,
   "id": "ec491a1a-31b5-4cb4-a1e6-cf2d7b28197f",
   "metadata": {},
   "outputs": [
    {
     "name": "stdout",
     "output_type": "stream",
     "text": [
      "[0 1 2 3]\n"
     ]
    }
   ],
   "source": [
    "ar_rn = np.arange(4)\n",
    "print(ar_rn)"
   ]
  },
  {
   "cell_type": "code",
   "execution_count": 29,
   "id": "686888d3-00dc-40d5-a5a1-482a60b0d0f4",
   "metadata": {},
   "outputs": [
    {
     "name": "stdout",
     "output_type": "stream",
     "text": [
      "[0 1 2 3 4 5]\n"
     ]
    }
   ],
   "source": [
    "ar_rn = np.arange(6)\n",
    "print(ar_rn)"
   ]
  },
  {
   "cell_type": "markdown",
   "id": "cca7ecf8-febe-47c5-8a01-bcc21255df13",
   "metadata": {},
   "source": [
    "# Diagonal"
   ]
  },
  {
   "cell_type": "code",
   "execution_count": 31,
   "id": "ab879c52-b46b-4120-8eff-c278bd49fee0",
   "metadata": {},
   "outputs": [
    {
     "name": "stdout",
     "output_type": "stream",
     "text": [
      "[[1. 0. 0.]\n",
      " [0. 1. 0.]\n",
      " [0. 0. 1.]]\n"
     ]
    }
   ],
   "source": [
    "ar_dia = np.eye(3)\n",
    "print(ar_dia)"
   ]
  },
  {
   "cell_type": "code",
   "execution_count": 32,
   "id": "d57b555d-226a-49cf-93e1-f8c4a17c4279",
   "metadata": {},
   "outputs": [
    {
     "name": "stdout",
     "output_type": "stream",
     "text": [
      "[[1. 0. 0. 0.]\n",
      " [0. 1. 0. 0.]\n",
      " [0. 0. 1. 0.]\n",
      " [0. 0. 0. 1.]]\n"
     ]
    }
   ],
   "source": [
    "ar_dia = np.eye(4)\n",
    "print(ar_dia)"
   ]
  },
  {
   "cell_type": "code",
   "execution_count": 34,
   "id": "a3fe1ebb-46d0-449c-b287-d91233881a83",
   "metadata": {},
   "outputs": [
    {
     "name": "stdout",
     "output_type": "stream",
     "text": [
      "[[1. 0. 0. 0. 0.]\n",
      " [0. 1. 0. 0. 0.]\n",
      " [0. 0. 1. 0. 0.]]\n"
     ]
    }
   ],
   "source": [
    "ar_dia = np.eye(3,5)\n",
    "print(ar_dia)\n"
   ]
  },
  {
   "cell_type": "markdown",
   "id": "001c1d88-6db8-4420-bd0b-e3f3732e361b",
   "metadata": {},
   "source": [
    "# linspace "
   ]
  },
  {
   "cell_type": "code",
   "execution_count": 35,
   "id": "a58a942d-8ad9-4bde-9979-4be40c1eedb8",
   "metadata": {},
   "outputs": [
    {
     "name": "stdout",
     "output_type": "stream",
     "text": [
      "[ 1.    3.25  5.5   7.75 10.  ]\n"
     ]
    }
   ],
   "source": [
    "ar_lin = np.linspace(1,10,num = 5)\n",
    "print(ar_lin)"
   ]
  },
  {
   "cell_type": "code",
   "execution_count": 36,
   "id": "727f972b-00e4-4b21-83ce-cba550cc9001",
   "metadata": {},
   "outputs": [
    {
     "name": "stdout",
     "output_type": "stream",
     "text": [
      "[ 0.   2.5  5.   7.5 10. ]\n"
     ]
    }
   ],
   "source": [
    "ar_lin = np.linspace(0,10,num = 5)\n",
    "print(ar_lin)"
   ]
  },
  {
   "cell_type": "code",
   "execution_count": 37,
   "id": "ca3f5dad-f8ce-4fdd-96e8-46b2d10065f0",
   "metadata": {},
   "outputs": [
    {
     "name": "stdout",
     "output_type": "stream",
     "text": [
      "[ 0.  5. 10. 15. 20.]\n"
     ]
    }
   ],
   "source": [
    "ar_lin = np.linspace(0,20,num=5) \n",
    "print(ar_lin)"
   ]
  },
  {
   "cell_type": "markdown",
   "id": "d3cf3f4a-58ea-49ef-a719-e3085f913502",
   "metadata": {},
   "source": [
    "# Random"
   ]
  },
  {
   "cell_type": "markdown",
   "id": "806cdb86-6dd3-42c3-a0d2-0d94f32eea91",
   "metadata": {},
   "source": [
    "Rand()"
   ]
  },
  {
   "cell_type": "code",
   "execution_count": 38,
   "id": "f2379623-639d-49eb-9186-5522dc7dde29",
   "metadata": {},
   "outputs": [
    {
     "name": "stdout",
     "output_type": "stream",
     "text": [
      "[0.04758053 0.30575541 0.84402824 0.70620911 0.6775696 ]\n"
     ]
    }
   ],
   "source": [
    "import numpy as np\n",
    "var = np.random.rand(5)\n",
    "print(var)\n"
   ]
  },
  {
   "cell_type": "code",
   "execution_count": 39,
   "id": "6e7d62e4-0e41-404b-9f9c-d487b9a2e431",
   "metadata": {},
   "outputs": [
    {
     "name": "stdout",
     "output_type": "stream",
     "text": [
      "[0.01605087 0.71455235 0.22691725 0.50868173 0.37988662 0.5097637 ]\n"
     ]
    }
   ],
   "source": [
    "import numpy as np\n",
    "var = np.random.rand(6)\n",
    "print(var)"
   ]
  },
  {
   "cell_type": "code",
   "execution_count": 43,
   "id": "6cb8e9cc-6bf9-4004-9a60-b0f3b44ac720",
   "metadata": {},
   "outputs": [
    {
     "name": "stdout",
     "output_type": "stream",
     "text": [
      "[0.96577339 0.42873466 0.06321606 0.41553028 0.15291056 0.32339335]\n"
     ]
    }
   ],
   "source": [
    "import numpy as np\n",
    "var = np.random.rand(6)\n",
    "print(var)    "
   ]
  },
  {
   "cell_type": "code",
   "execution_count": 44,
   "id": "f5c64158-361c-40bf-aa42-5a88b146f13d",
   "metadata": {},
   "outputs": [
    {
     "name": "stdout",
     "output_type": "stream",
     "text": [
      "[[0.07098832 0.65182718 0.37186028 0.27008843 0.87242968]\n",
      " [0.84731643 0.22394553 0.41326911 0.95039736 0.02884873]]\n"
     ]
    }
   ],
   "source": [
    "var1 = np.random.rand(2,5)\n",
    "print(var1)"
   ]
  },
  {
   "cell_type": "markdown",
   "id": "9d4529a0-d59c-429d-8d9c-08f021efb925",
   "metadata": {},
   "source": [
    "# Randn()"
   ]
  },
  {
   "cell_type": "code",
   "execution_count": 47,
   "id": "0454be04-e047-490c-8288-d79e54dbde84",
   "metadata": {},
   "outputs": [
    {
     "name": "stdout",
     "output_type": "stream",
     "text": [
      "[ 0.00166079 -0.29219762  0.53897614  0.02371492  0.54635088]\n"
     ]
    }
   ],
   "source": [
    "var2 = np.random.randn(5)\n",
    "print(var2)"
   ]
  },
  {
   "cell_type": "code",
   "execution_count": 48,
   "id": "649a4207-1ce1-4390-90ca-d3a7e23d3e53",
   "metadata": {},
   "outputs": [
    {
     "name": "stdout",
     "output_type": "stream",
     "text": [
      "[ 2.44822951  1.03522288 -0.86260756  0.7210303   0.04040727 -0.11806549\n",
      "  0.96524862  0.2952874 ]\n"
     ]
    }
   ],
   "source": [
    "var3 = np.random.randn(8)\n",
    "print(var3)"
   ]
  },
  {
   "cell_type": "markdown",
   "id": "dd3570c5-8794-4206-9f78-ebbb0d89f7fd",
   "metadata": {},
   "source": [
    "# ranf()"
   ]
  },
  {
   "cell_type": "code",
   "execution_count": 50,
   "id": "8eb92615-8d6c-4541-9cb1-8504e42f2336",
   "metadata": {},
   "outputs": [
    {
     "name": "stdout",
     "output_type": "stream",
     "text": [
      "[0.51552905 0.48660943 0.84202357 0.76332656]\n"
     ]
    }
   ],
   "source": [
    "var4 = np.random.ranf(4)\n",
    "print(var4)"
   ]
  },
  {
   "cell_type": "code",
   "execution_count": 51,
   "id": "ebc9841a-0265-4188-8333-d0e694d1005e",
   "metadata": {},
   "outputs": [
    {
     "name": "stdout",
     "output_type": "stream",
     "text": [
      "[0.91354011 0.0444097  0.79129835 0.60746053 0.31751468 0.62511265\n",
      " 0.06762029]\n"
     ]
    }
   ],
   "source": [
    "var5 = np.random.ranf(7)\n",
    "print(var5)"
   ]
  },
  {
   "cell_type": "markdown",
   "id": "4050dcc5-a331-42e0-b464-bb9d2f336367",
   "metadata": {},
   "source": [
    "# randint()"
   ]
  },
  {
   "cell_type": "code",
   "execution_count": 53,
   "id": "d7a4abcf-d529-4693-8e3c-406179ca1582",
   "metadata": {},
   "outputs": [
    {
     "name": "stdout",
     "output_type": "stream",
     "text": [
      "[17 13 15  5  8]\n"
     ]
    }
   ],
   "source": [
    "var6 = np.random.randint(5,20,5)\n",
    "print(var6)var"
   ]
  },
  {
   "cell_type": "code",
   "execution_count": 54,
   "id": "53d866d6-6b94-4212-b2ac-91307736640f",
   "metadata": {},
   "outputs": [
    {
     "name": "stdout",
     "output_type": "stream",
     "text": [
      "[5 4 5 5 5 4]\n"
     ]
    }
   ],
   "source": [
    "var7 = np.random.randint(4,6,6)\n",
    "print(var7)"
   ]
  },
  {
   "cell_type": "code",
   "execution_count": null,
   "id": "98a53746-fcc0-4928-b6fd-d8f59d215dbc",
   "metadata": {},
   "outputs": [],
   "source": []
  },
  {
   "cell_type": "code",
   "execution_count": null,
   "id": "7fdd417e-8810-477c-87c2-68f9d4c848aa",
   "metadata": {},
   "outputs": [],
   "source": []
  },
  {
   "cell_type": "code",
   "execution_count": null,
   "id": "13ed074f-1c9d-4fef-b841-47a5eaa4e4e2",
   "metadata": {},
   "outputs": [],
   "source": []
  },
  {
   "cell_type": "code",
   "execution_count": null,
   "id": "80fe24ac-3f27-45bc-b7be-d113c775d873",
   "metadata": {},
   "outputs": [],
   "source": []
  },
  {
   "cell_type": "code",
   "execution_count": null,
   "id": "7533844b-cf07-4431-8b20-66d8d2af0b22",
   "metadata": {},
   "outputs": [],
   "source": []
  },
  {
   "cell_type": "code",
   "execution_count": null,
   "id": "c16bb6a0-f08d-42b3-a7b3-6bc57f18b4ac",
   "metadata": {},
   "outputs": [],
   "source": []
  },
  {
   "cell_type": "code",
   "execution_count": null,
   "id": "f439b8db-bb2e-411e-a9db-1714b6592069",
   "metadata": {},
   "outputs": [],
   "source": []
  },
  {
   "cell_type": "code",
   "execution_count": null,
   "id": "69496d88-3f74-4b07-8de9-7827f8bb8e25",
   "metadata": {},
   "outputs": [],
   "source": []
  },
  {
   "cell_type": "code",
   "execution_count": null,
   "id": "11b62d56-bead-4c57-a571-6cba7e92aa08",
   "metadata": {},
   "outputs": [],
   "source": []
  },
  {
   "cell_type": "code",
   "execution_count": null,
   "id": "6b9cd4a9-648d-43fe-9e1b-acfe2e2af689",
   "metadata": {},
   "outputs": [],
   "source": []
  },
  {
   "cell_type": "code",
   "execution_count": null,
   "id": "73f4a956-2973-4fd9-a965-443c6fcb8270",
   "metadata": {},
   "outputs": [],
   "source": []
  }
 ],
 "metadata": {
  "kernelspec": {
   "display_name": "Python 3 (ipykernel)",
   "language": "python",
   "name": "python3"
  },
  "language_info": {
   "codemirror_mode": {
    "name": "ipython",
    "version": 3
   },
   "file_extension": ".py",
   "mimetype": "text/x-python",
   "name": "python",
   "nbconvert_exporter": "python",
   "pygments_lexer": "ipython3",
   "version": "3.11.4"
  }
 },
 "nbformat": 4,
 "nbformat_minor": 5
}
