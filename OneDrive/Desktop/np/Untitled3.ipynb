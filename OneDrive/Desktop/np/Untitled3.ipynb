{
 "cells": [
  {
   "cell_type": "markdown",
   "id": "816d8d71-c370-4f7b-b1cd-ebdea8611fad",
   "metadata": {},
   "source": [
    "# Data type "
   ]
  },
  {
   "cell_type": "code",
   "execution_count": 3,
   "id": "2f17b133-37e9-4c22-b525-1b4c5f7d0554",
   "metadata": {},
   "outputs": [
    {
     "name": "stdout",
     "output_type": "stream",
     "text": [
      "Data type : int32\n"
     ]
    }
   ],
   "source": [
    "import  numpy as np\n",
    "var = np.array([1,2,3,4])\n",
    "print(\"Data type :\",var.dtype)"
   ]
  },
  {
   "cell_type": "code",
   "execution_count": 4,
   "id": "8088888f-92e5-49d7-8b14-d71a936d7f54",
   "metadata": {},
   "outputs": [
    {
     "name": "stdout",
     "output_type": "stream",
     "text": [
      "Data Type : float64\n"
     ]
    }
   ],
   "source": [
    "var = np.array([1.0,2.3,4.5,2.4])\n",
    "print(\"Data Type :\",var.dtype)"
   ]
  },
  {
   "cell_type": "code",
   "execution_count": 5,
   "id": "c3b14e64-4b95-4641-b313-2191942bc14b",
   "metadata": {},
   "outputs": [
    {
     "name": "stdout",
     "output_type": "stream",
     "text": [
      "Data Type : <U1\n"
     ]
    }
   ],
   "source": [
    "var = np.array ([\"A\",\"B\",\"c\",\"d\"])\n",
    "print(\"Data Type :\",var.dtype)\n"
   ]
  },
  {
   "cell_type": "code",
   "execution_count": 6,
   "id": "908f2bf2-1464-4569-945c-f9105d6ad102",
   "metadata": {},
   "outputs": [
    {
     "name": "stdout",
     "output_type": "stream",
     "text": [
      "Data Type : <U11\n"
     ]
    }
   ],
   "source": [
    "var = np.array([\"A\",\"B\",\"C\",\"D\",1,2,3,4])\n",
    "print(\"Data Type :\",var.dtype )"
   ]
  },
  {
   "cell_type": "code",
   "execution_count": 7,
   "id": "7d873913-dfb2-49c3-b2af-cf0c1329c93b",
   "metadata": {},
   "outputs": [
    {
     "name": "stdout",
     "output_type": "stream",
     "text": [
      "Data Type : int32\n"
     ]
    }
   ],
   "source": [
    " x = np.array([1,2,3,4])\n",
    "print(\"Data Type :\",x.dtype )"
   ]
  },
  {
   "cell_type": "code",
   "execution_count": 8,
   "id": "b331d6ea-843e-47c8-aabc-5cbfca6bf6d8",
   "metadata": {},
   "outputs": [
    {
     "name": "stdout",
     "output_type": "stream",
     "text": [
      "Data Type : int8\n"
     ]
    }
   ],
   "source": [
    "x = np.array([1,2,3,4],dtype = np.int8)\n",
    "print(\"Data Type :\",x.dtype )\n"
   ]
  },
  {
   "cell_type": "code",
   "execution_count": 9,
   "id": "2aeb6105-b632-4a38-8fc5-f193aeb3a0c9",
   "metadata": {},
   "outputs": [
    {
     "name": "stdout",
     "output_type": "stream",
     "text": [
      "Data Type : int64\n"
     ]
    }
   ],
   "source": [
    "x = np.array([1,2,3,4,5],dtype = np.int64)\n",
    "print(\"Data Type :\",x.dtype )"
   ]
  },
  {
   "cell_type": "code",
   "execution_count": 11,
   "id": "a4ab4bde-4955-46b3-b4f0-196cf79ee7f7",
   "metadata": {},
   "outputs": [
    {
     "name": "stdout",
     "output_type": "stream",
     "text": [
      "Data Type : bool\n"
     ]
    }
   ],
   "source": [
    "y =np. np.array([4,5,6,7,8,10],dtype = np.bool_)\n",
    "print(\"Data Type :\",y.dtype )"
   ]
  },
  {
   "cell_type": "code",
   "execution_count": 13,
   "id": "0385ce14-83a4-4f1d-b1b0-328c4ce213b7",
   "metadata": {},
   "outputs": [
    {
     "name": "stdout",
     "output_type": "stream",
     "text": [
      "Data Type : int32\n",
      "[2 4 5 6 7]\n"
     ]
    }
   ],
   "source": [
    "z = np.array([2,4,5,6,7],dtype  = np.intc)\n",
    "print(\"Data Type :\",z.dtype )\n",
    "print(z)"
   ]
  },
  {
   "cell_type": "code",
   "execution_count": 15,
   "id": "ec6811fb-db84-4153-967c-42177f7c5caa",
   "metadata": {},
   "outputs": [
    {
     "name": "stdout",
     "output_type": "stream",
     "text": [
      "Data Type : float32\n",
      "[1. 3. 4. 5.]\n"
     ]
    }
   ],
   "source": [
    "x1 = np.array([1,3,4,5],dtype = \"f\")\n",
    "print(\"Data Type :\",x1.dtype)\n",
    "print(x1)"
   ]
  },
  {
   "cell_type": "code",
   "execution_count": 17,
   "id": "bab83d85-76d6-4f62-a812-d26b1af819f6",
   "metadata": {},
   "outputs": [
    {
     "name": "stdout",
     "output_type": "stream",
     "text": [
      "Data Type : int32\n",
      "Data Type : float32\n",
      "[1 2 3 4 6]\n",
      "[1. 2. 3. 4. 6.]\n"
     ]
    }
   ],
   "source": [
    "x2 = np.array([1,2,3,4,6])\n",
    "new = np.float32(x2)\n",
    "\n",
    "                                   \n",
    "\n",
    "\n",
    "print(\"Data Type :\",x2.dtype )\n",
    "print(\"Data Type :\",new.dtype )\n",
    "print(x2)\n",
    "print(new)\n",
    "\n",
    "\n"
   ]
  },
  {
   "cell_type": "markdown",
   "id": "10519d51-baba-4a3e-a45f-ef77d0ee0789",
   "metadata": {},
   "source": [
    "# Arithmetic opertion "
   ]
  },
  {
   "cell_type": "markdown",
   "id": "82f8589d-2c07-4156-83fd-00b88e83a4bc",
   "metadata": {},
   "source": [
    "# array add in single line one d array"
   ]
  },
  {
   "cell_type": "code",
   "execution_count": 4,
   "id": "24f7e625-e092-4d25-8e7f-6e2c555c06e2",
   "metadata": {},
   "outputs": [
    {
     "name": "stdout",
     "output_type": "stream",
     "text": [
      "[4 5 6 7]\n"
     ]
    }
   ],
   "source": [
    "import numpy as np\n",
    "var = np.array([1,2,3,4])\n",
    "\n",
    "varadd = var + 3 \n",
    "print(varadd)"
   ]
  },
  {
   "cell_type": "code",
   "execution_count": 6,
   "id": "4975c460-99a0-43b5-8984-cf952dc4040d",
   "metadata": {},
   "outputs": [
    {
     "name": "stdout",
     "output_type": "stream",
     "text": [
      "[3 4 5 6]\n"
     ]
    }
   ],
   "source": [
    "var = np.array([1,2,3,4])\n",
    "varadd = var + 2\n",
    "print(varadd)"
   ]
  },
  {
   "cell_type": "code",
   "execution_count": 9,
   "id": "503dcc63-34b0-456c-a227-f53e99568e2e",
   "metadata": {},
   "outputs": [
    {
     "name": "stdout",
     "output_type": "stream",
     "text": [
      "[ 6  7  8  9 10]\n"
     ]
    }
   ],
   "source": [
    "var = np.array([1,2,3,4,5])\n",
    "varadd = var + 5\n",
    "print(varadd)"
   ]
  },
  {
   "cell_type": "markdown",
   "id": "62340a96-9a8e-48b1-b974-acf4f0e365da",
   "metadata": {},
   "source": [
    "# array addation in 1d array "
   ]
  },
  {
   "cell_type": "code",
   "execution_count": 11,
   "id": "7aab08bc-e596-4eab-98b9-a85dc3b5f564",
   "metadata": {},
   "outputs": [
    {
     "name": "stdout",
     "output_type": "stream",
     "text": [
      "[2 4 6 8]\n"
     ]
    }
   ],
   "source": [
    "var1 = np.array([1,2,3,4])\n",
    "var2 = np.array([1,2,3,4])\n",
    "\n",
    "varadd = var1 + var2 \n",
    "print(varadd)\n"
   ]
  },
  {
   "cell_type": "code",
   "execution_count": 12,
   "id": "d0ffbb2e-339d-4d53-81f8-d5cdc4172c70",
   "metadata": {},
   "outputs": [
    {
     "name": "stdout",
     "output_type": "stream",
     "text": [
      "[12 11 13 15]\n"
     ]
    }
   ],
   "source": [
    "var4 = np.array([4,5,6,7])\n",
    "var5 = np.array([8,6,7,8])\n",
    "\n",
    "varadd = var4 + var5\n",
    "print(varadd)"
   ]
  },
  {
   "cell_type": "markdown",
   "id": "f5c92425-87ac-4f51-a8d3-377f54a9980f",
   "metadata": {},
   "source": [
    "# array subtiratiion in 1d array "
   ]
  },
  {
   "cell_type": "code",
   "execution_count": 22,
   "id": "e483d13c-cb7d-480b-9333-3c6f1fcdc0dc",
   "metadata": {},
   "outputs": [
    {
     "name": "stdout",
     "output_type": "stream",
     "text": [
      "[0 0 0 0]\n"
     ]
    }
   ],
   "source": [
    "var6 = np.array([8,7,6,5])\n",
    "var7 = np.array([8,7,6,5])\n",
    "\n",
    "varsub  = var6  - var7 \n",
    "print(varsub)\n",
    "\n"
   ]
  },
  {
   "cell_type": "code",
   "execution_count": 23,
   "id": "5b64d255-5757-46f6-8502-160bde021ba5",
   "metadata": {},
   "outputs": [
    {
     "name": "stdout",
     "output_type": "stream",
     "text": [
      "[-5 -3  0  3]\n"
     ]
    }
   ],
   "source": [
    "var8 = np.array([3,4,5,7])\n",
    "var9 = np.array([8,7,5,4])\n",
    "\n",
    "varsub = var8 - var9\n",
    "print(varsub)"
   ]
  },
  {
   "cell_type": "markdown",
   "id": "22bdfe74-9274-4268-a1b4-16c0909a7a56",
   "metadata": {},
   "source": [
    "# Multiplay in 1d array "
   ]
  },
  {
   "cell_type": "code",
   "execution_count": 24,
   "id": "b1a10304-792a-427f-96e4-73a4b6639015",
   "metadata": {},
   "outputs": [
    {
     "name": "stdout",
     "output_type": "stream",
     "text": [
      "[ 3  8 15 24]\n"
     ]
    }
   ],
   "source": [
    "var10 = np.array([1,2,3,4])\n",
    "var11 = np.array([3,4,5,6])\n",
    "\n",
    "varmlt = var10 * var11\n",
    "print(varmlt)"
   ]
  },
  {
   "cell_type": "code",
   "execution_count": 25,
   "id": "3aff8c65-4c6d-41ed-972f-3976d82b611c",
   "metadata": {},
   "outputs": [
    {
     "name": "stdout",
     "output_type": "stream",
     "text": [
      "[0 0 0 0]\n"
     ]
    }
   ],
   "source": [
    "var12 = np.array([1,2,4,5])\n",
    "var13 = np.array([0,0,0,0])\n",
    "\n",
    "varmlt = var12 * var13 \n",
    "print(varmlt)\n"
   ]
  },
  {
   "cell_type": "markdown",
   "id": "7d337d5e-8d7d-4042-b784-8a123c75c437",
   "metadata": {},
   "source": [
    "# divation on 1d array "
   ]
  },
  {
   "cell_type": "code",
   "execution_count": 26,
   "id": "df038cc3-a3bf-4cba-9a78-164c581dc091",
   "metadata": {},
   "outputs": [
    {
     "name": "stdout",
     "output_type": "stream",
     "text": [
      "[1. 1. 1. 1.]\n"
     ]
    }
   ],
   "source": [
    "var14 = np.array([1,2,3,4])\n",
    "var15 = np.array([1,2,3,4])\n",
    "\n",
    "vardiv = var14 / var15\n",
    "print(vardiv)"
   ]
  },
  {
   "cell_type": "code",
   "execution_count": 28,
   "id": "9c2ca7c5-1c99-4e7f-a5e4-cddaa8bd05bf",
   "metadata": {},
   "outputs": [
    {
     "name": "stdout",
     "output_type": "stream",
     "text": [
      "[1.5        1.33333333 1.2        1.33333333]\n"
     ]
    }
   ],
   "source": [
    "var16 = np.array([3,4,6,8])\n",
    "var17 = np.array([2,3,5,6])\n",
    "\n",
    "vardiv = var16/var17\n",
    "print(vardiv)\n"
   ]
  },
  {
   "cell_type": "code",
   "execution_count": 30,
   "id": "262eccc1-7d11-4f3a-8590-0c19a68379e1",
   "metadata": {},
   "outputs": [
    {
     "name": "stdout",
     "output_type": "stream",
     "text": [
      "[0.         2.66666667 0.2        0.        ]\n"
     ]
    }
   ],
   "source": [
    "var18 = np.array([0,8,9,0])\n",
    "var19 = np.array([2,3,45,6])\n",
    "\n",
    "vardiv = var18 / var19 \n",
    "print(vardiv )"
   ]
  },
  {
   "cell_type": "markdown",
   "id": "a0917952-421e-4f08-9f2f-06a59911ecdc",
   "metadata": {},
   "source": [
    "# modules in 1d array "
   ]
  },
  {
   "cell_type": "code",
   "execution_count": 31,
   "id": "46481eaa-2d94-4b52-8dba-fbcd86293b4e",
   "metadata": {},
   "outputs": [
    {
     "name": "stdout",
     "output_type": "stream",
     "text": [
      "[0 0 0 0]\n"
     ]
    }
   ],
   "source": [
    "var20 = np.array([1,2,3,4])\n",
    "var21 = np.array([1,2,3,4])\n",
    "\n",
    "varmod = var20 % var21 \n",
    "print(varmod)"
   ]
  },
  {
   "cell_type": "code",
   "execution_count": 32,
   "id": "703fc65b-ff4d-4109-8b38-c7d3e320347a",
   "metadata": {},
   "outputs": [
    {
     "name": "stdout",
     "output_type": "stream",
     "text": [
      "[2 3 4 5]\n"
     ]
    }
   ],
   "source": [
    "var22 = np.array([2,3,4,5])\n",
    "var23 = np.array([3,4,5,6])\n",
    "\n",
    "varmod = var22 % var23 \n",
    "print(varmod)\n"
   ]
  },
  {
   "cell_type": "code",
   "execution_count": 33,
   "id": "cc712b66-42ee-4583-a91a-8673a19c73ae",
   "metadata": {},
   "outputs": [
    {
     "name": "stdout",
     "output_type": "stream",
     "text": [
      "[0 0 0 0]\n"
     ]
    }
   ],
   "source": [
    "var24 = np.array([4,4,4,4])\n",
    "\n",
    "\n",
    "varmod = var24 % 2\n",
    "print(varmod)"
   ]
  },
  {
   "cell_type": "markdown",
   "id": "edd177b6-f1e4-4208-a591-11945ab025e4",
   "metadata": {},
   "source": [
    "# using funtionns in 1d array "
   ]
  },
  {
   "cell_type": "code",
   "execution_count": 4,
   "id": "a0138951-d764-4892-b872-5740f595b689",
   "metadata": {},
   "outputs": [
    {
     "name": "stdout",
     "output_type": "stream",
     "text": [
      "[ 4  8 10 12]\n"
     ]
    }
   ],
   "source": [
    "import numpy as np\n",
    "var25 = np.array([2,3,4,5])\n",
    "var26= np.array([2,5,6,7])\n",
    "\n",
    "varadd = np.add(var25,var26)\n",
    "print(varadd)\n"
   ]
  },
  {
   "cell_type": "code",
   "execution_count": 8,
   "id": "3b8ba42c-dbf7-4b49-af49-89a5b621ddc6",
   "metadata": {},
   "outputs": [
    {
     "name": "stdout",
     "output_type": "stream",
     "text": [
      "[0 0 0 0]\n"
     ]
    }
   ],
   "source": [
    "var26 = np.array([2,3,4,7])\n",
    "var27 = np.array([2,3,4,7])\n",
    "\n",
    "varsub = np.subtract(var26,var27)\n",
    "print(varsub)"
   ]
  },
  {
   "cell_type": "markdown",
   "id": "361e042c-c901-4dda-a593-e04e7d069aea",
   "metadata": {},
   "source": [
    "# 2D array in differnt opertion"
   ]
  },
  {
   "cell_type": "code",
   "execution_count": 3,
   "id": "d527d2e4-1084-443d-8f69-d995d3d5825b",
   "metadata": {},
   "outputs": [
    {
     "name": "stdout",
     "output_type": "stream",
     "text": [
      "[[2 4 6 8]\n",
      " [2 4 6 8]]\n"
     ]
    }
   ],
   "source": [
    "import numpy as np\n",
    "var27 = np.array([[1,2,3,4],[1,2,3,4]])\n",
    "var28 = np.array([[1,2,3,4],[1,2,3,4]])\n",
    "\n",
    "varadd2 = var27 + var28\n",
    "print(varadd2)\n"
   ]
  },
  {
   "cell_type": "code",
   "execution_count": 5,
   "id": "daeac894-af12-4235-a168-24e41e1c34d0",
   "metadata": {},
   "outputs": [
    {
     "name": "stdout",
     "output_type": "stream",
     "text": [
      "[[1 2 3 4]\n",
      " [1 2 3 4]]\n",
      "\n",
      "[[1 2 3 4]\n",
      " [1 2 3 4]]\n",
      "\n",
      "[[2 4 6 8]\n",
      " [2 4 6 8]]\n"
     ]
    }
   ],
   "source": [
    "var29 = np.array([[1,2,3,4],[1,2,3,4]])\n",
    "var30 = np.array([[1,2,3,4],[1,2,3,4]])\n",
    "\n",
    "print(var29)\n",
    "print()\n",
    "print(var30)\n",
    "print()\n",
    "\n",
    "varadd3 = np.add(var29,var30)\n",
    "print(varadd3)\n"
   ]
  },
  {
   "cell_type": "markdown",
   "id": "e628ce6a-e966-4a5e-9b24-83c6f0d936b1",
   "metadata": {},
   "source": [
    "# mutiputions in 2d array "
   ]
  },
  {
   "cell_type": "code",
   "execution_count": 6,
   "id": "bf8d5a5d-a5fb-4265-9ddf-059bb7aaa904",
   "metadata": {},
   "outputs": [
    {
     "name": "stdout",
     "output_type": "stream",
     "text": [
      "[[ 1 22  3  4]\n",
      " [ 1  2  3  4]]\n",
      "\n",
      "[[1 2 3 4]\n",
      " [1 2 3 5]]\n",
      "\n",
      "[[ 1 44  9 16]\n",
      " [ 1  4  9 20]]\n"
     ]
    }
   ],
   "source": [
    "var31 = np.array([[1,22,3,4],[1,2,3,4]])\n",
    "var32 = np.array([[1,2,3,4],[1,2,3,5]])\n",
    "\n",
    "print(var31)\n",
    "print()\n",
    "print(var32)\n",
    "print()\n",
    "varsub = np.multiply(var31,var32)\n",
    "print(varsub)"
   ]
  },
  {
   "cell_type": "code",
   "execution_count": null,
   "id": "d9a05c7f-f7ed-464a-a528-0fd35fef9cbf",
   "metadata": {},
   "outputs": [],
   "source": [
    " "
   ]
  }
 ],
 "metadata": {
  "kernelspec": {
   "display_name": "Python 3 (ipykernel)",
   "language": "python",
   "name": "python3"
  },
  "language_info": {
   "codemirror_mode": {
    "name": "ipython",
    "version": 3
   },
   "file_extension": ".py",
   "mimetype": "text/x-python",
   "name": "python",
   "nbconvert_exporter": "python",
   "pygments_lexer": "ipython3",
   "version": "3.11.4"
  }
 },
 "nbformat": 4,
 "nbformat_minor": 5
}
