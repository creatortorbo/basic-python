{
 "cells": [
  {
   "cell_type": "code",
   "execution_count": 12,
   "id": "2b449f2a-112b-4621-8622-322608395b3d",
   "metadata": {},
   "outputs": [
    {
     "name": "stdout",
     "output_type": "stream",
     "text": [
      "1\n"
     ]
    }
   ],
   "source": [
    "import numpy as np\n",
    "var = np.array([1,2,3,4,5,6])\n",
    "print(np.min(var))"
   ]
  },
  {
   "cell_type": "markdown",
   "id": "c0a7e297-4ceb-4ba8-a5be-43deef069a24",
   "metadata": {},
   "source": [
    "# Arithmetic funtions of numpy"
   ]
  },
  {
   "cell_type": "code",
   "execution_count": 13,
   "id": "704f4fb4-5697-4c3c-8fb9-bee8843b93d7",
   "metadata": {},
   "outputs": [
    {
     "name": "stdout",
     "output_type": "stream",
     "text": [
      "min : 7\n",
      "max : 678\n"
     ]
    }
   ],
   "source": [
    "var =  np.array([8,10,23,46,7,33,44,55,678])\n",
    "print(\"min :\",np.min(var))\n",
    "print(\"max :\",np.max(var))"
   ]
  },
  {
   "cell_type": "markdown",
   "id": "7ced7793-249c-4a30-a427-13f0969db962",
   "metadata": {},
   "source": [
    "# np.argmin()"
   ]
  },
  {
   "cell_type": "code",
   "execution_count": 15,
   "id": "31819e23-e8cc-44f7-8828-6f668e7d8d52",
   "metadata": {},
   "outputs": [],
   "source": [
    "# it tell the postions of min and max in given below "
   ]
  },
  {
   "cell_type": "code",
   "execution_count": 2,
   "id": "0ddbb59e-4721-4a78-b01f-bc7866ac13a2",
   "metadata": {},
   "outputs": [
    {
     "name": "stdout",
     "output_type": "stream",
     "text": [
      "min :  2 5\n",
      "max : 8 4\n"
     ]
    }
   ],
   "source": [
    "import numpy as np\n",
    "var = np.array([4,5,6,7,8,2,3,5,6])\n",
    "print(\"min : \",np.min(var),np.argmin(var))\n",
    "print(\"max :\",np.max(var),np.argmax(var))\n"
   ]
  },
  {
   "cell_type": "code",
   "execution_count": 3,
   "id": "dfd0e56e-5abc-42cd-90f0-5ac09848f2ec",
   "metadata": {},
   "outputs": [
    {
     "name": "stdout",
     "output_type": "stream",
     "text": [
      "min :  0 5\n",
      "max : 9999 7\n"
     ]
    }
   ],
   "source": [
    "import numpy as np\n",
    "var = np.array([2,3,8,6,5,0,13,9999])\n",
    "print(\"min : \",np.min(var),np.argmin(var))\n",
    "print(\"max :\",np.max(var),np.argmax(var))\n"
   ]
  },
  {
   "cell_type": "code",
   "execution_count": 4,
   "id": "7ff07d67-6868-4b5f-afa0-6face3119ef1",
   "metadata": {},
   "outputs": [
    {
     "name": "stdout",
     "output_type": "stream",
     "text": [
      "[2 6]\n"
     ]
    }
   ],
   "source": [
    "var1 = np.array([[2,3,4,5],[7,8,90,6]])\n",
    "print(np.min(var1,axis = 1))"
   ]
  },
  {
   "cell_type": "code",
   "execution_count": 5,
   "id": "903d1d51-b49c-42be-8909-049f996e241c",
   "metadata": {},
   "outputs": [
    {
     "name": "stdout",
     "output_type": "stream",
     "text": [
      "[2 3 4 5]\n"
     ]
    }
   ],
   "source": [
    "var1 = np.array([[2,3,4,5],[7,8,90,6]])\n",
    "print(np.min(var1,axis = 0))"
   ]
  },
  {
   "cell_type": "code",
   "execution_count": 6,
   "id": "23353403-0ee9-421d-bb9c-cfebc62fe76b",
   "metadata": {},
   "outputs": [
    {
     "name": "stdout",
     "output_type": "stream",
     "text": [
      "[ 7  8 90  6]\n"
     ]
    }
   ],
   "source": [
    "var1 = np.array([[2,3,4,5],[7,8,90,6]])\n",
    "print(np.max(var1,axis = 0))"
   ]
  },
  {
   "cell_type": "code",
   "execution_count": null,
   "id": "d012d2e1-d2b2-47e5-82c0-deb64cbc4e1d",
   "metadata": {},
   "outputs": [],
   "source": []
  },
  {
   "cell_type": "code",
   "execution_count": null,
   "id": "fc6f234d-b04b-43ea-869b-4db7f9039875",
   "metadata": {},
   "outputs": [],
   "source": []
  },
  {
   "cell_type": "code",
   "execution_count": null,
   "id": "b93c0018-c594-4fa3-8c23-8e9b3af85580",
   "metadata": {},
   "outputs": [],
   "source": []
  },
  {
   "cell_type": "code",
   "execution_count": null,
   "id": "7496aea2-0a01-42e6-820a-e5e7fed86a96",
   "metadata": {},
   "outputs": [],
   "source": []
  },
  {
   "cell_type": "markdown",
   "id": "156f3cfb-8dbf-4896-89aa-38757f4e6cc1",
   "metadata": {},
   "source": [
    "# np.sin()"
   ]
  },
  {
   "cell_type": "code",
   "execution_count": null,
   "id": "a583086b-cafe-487e-b7ff-779b307f5c5f",
   "metadata": {},
   "outputs": [],
   "source": []
  },
  {
   "cell_type": "markdown",
   "id": "c9ab58ce-e337-4cff-9468-b0e33eacc792",
   "metadata": {},
   "source": [
    "# np.cos()"
   ]
  },
  {
   "cell_type": "code",
   "execution_count": null,
   "id": "e68052d8-0c07-4dd8-82ea-cd729ab5f582",
   "metadata": {},
   "outputs": [],
   "source": []
  },
  {
   "cell_type": "markdown",
   "id": "eb129f39-2188-4eb1-84c0-cd17afac0604",
   "metadata": {},
   "source": [
    "# np.cumsum()"
   ]
  },
  {
   "cell_type": "code",
   "execution_count": null,
   "id": "94a9c370-863e-4221-b28e-36a11b7d0ceb",
   "metadata": {},
   "outputs": [],
   "source": []
  },
  {
   "cell_type": "code",
   "execution_count": null,
   "id": "dc4fa854-d46d-41a5-baa5-5f8c7d767136",
   "metadata": {},
   "outputs": [],
   "source": []
  }
 ],
 "metadata": {
  "kernelspec": {
   "display_name": "Python 3 (ipykernel)",
   "language": "python",
   "name": "python3"
  },
  "language_info": {
   "codemirror_mode": {
    "name": "ipython",
    "version": 3
   },
   "file_extension": ".py",
   "mimetype": "text/x-python",
   "name": "python",
   "nbconvert_exporter": "python",
   "pygments_lexer": "ipython3",
   "version": "3.11.4"
  }
 },
 "nbformat": 4,
 "nbformat_minor": 5
}
